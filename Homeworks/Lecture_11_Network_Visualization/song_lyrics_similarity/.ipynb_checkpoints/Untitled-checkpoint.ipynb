{
 "cells": [
  {
   "cell_type": "code",
   "execution_count": 3,
   "metadata": {},
   "outputs": [
    {
     "name": "stderr",
     "output_type": "stream",
     "text": [
      "[nltk_data] Downloading package stopwords to\n",
      "[nltk_data]     C:\\Users\\USER\\AppData\\Roaming\\nltk_data...\n",
      "[nltk_data]   Package stopwords is already up-to-date!\n"
     ]
    }
   ],
   "source": [
    "from bs4 import BeautifulSoup as bs\n",
    "from requests import get\n",
    "import time\n",
    "\n",
    "import matplotlib.pyplot as plt\n",
    "from sklearn.feature_extraction.text import TfidfVectorizer\n",
    "from sklearn.cluster import KMeans\n",
    "from sklearn.decomposition import PCA\n",
    "from sklearn.manifold import TSNE\n",
    "\n",
    "import nltk\n",
    "nltk.download('stopwords')\n",
    "from nltk.corpus import stopwords\n",
    "\n",
    "import numpy as np\n",
    "import pandas as pd"
   ]
  },
  {
   "cell_type": "code",
   "execution_count": 4,
   "metadata": {},
   "outputs": [
    {
     "data": {
      "image/png": "[encoded data removed]",
      "text/plain": [
       "<Figure size 432x288 with 1 Axes>"
      ]
     },
     "metadata": {
      "needs_background": "light"
     },
     "output_type": "display_data"
    }
   ],
   "source": [
    "url_list = [\"https://genius.com/Eminem-beautiful-lyrics\", \"https://genius.com/Eminem-venom-music-from-the-motion-picture-lyrics\",\n",
    "\t\t\t\"https://genius.com/Eminem-mockingbird-lyrics\", \"https://genius.com/Eminem-not-afraid-lyrics\",\n",
    "\t\t\t\"https://genius.com/Eminem-my-name-is-lyrics\", \"https://genius.com/Eminem-cleanin-out-my-closet-lyrics\",\n",
    "\t\t\t\"https://genius.com/Queen-bohemian-rhapsody-lyrics\", \"https://genius.com/Queen-the-show-must-go-on-lyrics\",\n",
    "\t\t\t\"https://genius.com/Queen-we-are-the-champions-lyrics\", \"https://genius.com/Queen-we-will-rock-you-lyrics\"]\n",
    "\n",
    "url_list = list(set(url_list))\n",
    "\n",
    "texts_list = []\n",
    "for url in url_list:\n",
    "\tresponse = get(url)\n",
    "\tsoup = bs(response.text)\n",
    "\tsoup = soup.find(\"div\", {\"class\" : \"song_body-lyrics\"}).text\n",
    "\ttexts_list.append(soup)\n",
    "\ttime.sleep(3)\n",
    "\n",
    "\n",
    "stop_words = stopwords.words('english')\n",
    "\n",
    "texts_list = np.char.lower(texts_list)\n",
    "n_texts_list = []\n",
    "for text in texts_list:\n",
    "\tn_text = \"\"\n",
    "\tfor word in text.split():\n",
    "\t    if word not in stop_words:\n",
    "\t        n_text = n_text + \" \" + word\n",
    "\tn_texts_list.append(n_text)\n",
    "\n",
    "\n",
    "symbols = \"!\\\"#$%&()*+-./:;<=>?@[\\]^_`{|}~\\n\"\n",
    "cleaned_text = []\n",
    "for text in n_texts_list:\n",
    "\tfor i in symbols:\n",
    "\t    text = text.replace(i, ' ')\n",
    "\tcleaned_text.append(text)\n",
    "\n",
    "num_clusters = 2\n",
    "max_iterations = 500\n",
    "cmap = {\n",
    "    0: 'blue', 1: 'red'\n",
    "}\n",
    "num_pc = 2\n",
    "\n",
    "\n",
    "\n",
    "tf_idf = TfidfVectorizer(analyzer=\"word\", use_idf=True, smooth_idf=True, ngram_range=(1, 3))\n",
    "tf_idf_data = tf_idf.fit_transform(cleaned_text)\n",
    "\n",
    "\n",
    "k_kmeans = KMeans(\n",
    "    n_clusters=num_clusters,\n",
    "    max_iter=max_iterations,\n",
    "    precompute_distances=\"auto\",\n",
    "    n_jobs=-1,\n",
    "    random_state = 42,\n",
    "    algorithm = \"full\"\n",
    ")\n",
    "\n",
    "labels = k_kmeans.fit_predict(tf_idf_data)\n",
    "\n",
    "data = tf_idf_data.todense()\n",
    "\n",
    "\n",
    "\n",
    "pc = PCA(n_components=num_pc).fit_transform(data)\n",
    "\n",
    "fig, ax = plt.subplots()\n",
    "for index, instance in enumerate(pc):\n",
    "    # print instance, index, labels[index]\n",
    "    pca_comp_1, pca_comp_2 = pc[index]\n",
    "    color = cmap[labels[index]]\n",
    "    ax.scatter(pca_comp_1, pca_comp_2, c=color)\n",
    "\n",
    "plt.show()"
   ]
  }
 ],
 "metadata": {
  "kernelspec": {
   "display_name": "Python 3",
   "language": "python",
   "name": "python3"
  },
  "language_info": {
   "codemirror_mode": {
    "name": "ipython",
    "version": 3
   },
   "file_extension": ".py",
   "mimetype": "text/x-python",
   "name": "python",
   "nbconvert_exporter": "python",
   "pygments_lexer": "ipython3",
   "version": "3.7.3"
  }
 },
 "nbformat": 4,
 "nbformat_minor": 2
}
