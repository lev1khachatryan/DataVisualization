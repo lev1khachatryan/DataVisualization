{
 "cells": [
  {
   "cell_type": "code",
   "execution_count": 1,
   "metadata": {},
   "outputs": [],
   "source": [
    "import requests\n",
    "from bs4 import BeautifulSoup\n",
    "import csv"
   ]
  },
  {
   "cell_type": "code",
   "execution_count": 2,
   "metadata": {},
   "outputs": [],
   "source": [
    "def get_prices(url, class_name):\n",
    "    '''\n",
    "    Get prices of items\n",
    "    \n",
    "    Parameters:\n",
    "    url (string): the url of page\n",
    "    class_name (string): class name of html component\n",
    "    \n",
    "    Return:\n",
    "    list: all html components' text which class is equal to putted class_name\n",
    "    '''\n",
    "    \n",
    "    response  = requests.get(url)\n",
    "    soup = BeautifulSoup(response.text)\n",
    "\n",
    "    prices = []\n",
    "    for div in soup.find_all('div', {'class': class_name}):\n",
    "        for price in div.find_all('div', {'class': 'price'}):\n",
    "            prices.append(str(price.text[0: int(str(price.text).index('A'))-1]))\n",
    "\n",
    "    return(prices)"
   ]
  },
  {
   "cell_type": "code",
   "execution_count": 3,
   "metadata": {},
   "outputs": [],
   "source": [
    "def write_csv(list_to_write, csv_name, path = 'WebScrapingData'):\n",
    "    '''\n",
    "    Write list to csv.\n",
    "    \n",
    "    Parameters:\n",
    "    list_to_write (list): The file (python list) that we whant to write to disk.\n",
    "    csv_name (string): The name of csv file.\n",
    "    path (string): the path where we whant to read or write to.\n",
    "    \n",
    "    '''\n",
    "    directory_and_file = path + '/' + csv_name + '.csv'\n",
    "    try:\n",
    "        with open(directory_and_file, 'w') as csvFile:\n",
    "            writer = csv.writer(csvFile)\n",
    "            writer.writerow(list_to_write)\n",
    "    except:\n",
    "        print(\"Please specify valid arguments!\")"
   ]
  },
  {
   "cell_type": "code",
   "execution_count": 4,
   "metadata": {},
   "outputs": [],
   "source": [
    "# def read_csv(csv_name, path = 'WebScrapingData'):\n",
    "#     '''\n",
    "#     Read data from csv as python list.\n",
    "    \n",
    "#     Parameters:\n",
    "#     csv_name (string): the name of csv that we whant to read from the disk.\n",
    "#     path (string): the direction of that csv\n",
    "                     \n",
    "#     Return (list): The list of csv's data\n",
    "    \n",
    "#     '''\n",
    "#     directory_and_file = path + '/' + csv_name + '.csv'\n",
    "#     try:\n",
    "#         with open(directory_and_file, 'r') as readFile:\n",
    "#             reader = csv.reader(readFile)\n",
    "#             lines = list(reader)\n",
    "#             lines = lines[0]\n",
    "#             lines = [int(i) for i in lines]\n",
    "#         return lines\n",
    "#     except:\n",
    "#         print(\"Please specify valid arguments!\")"
   ]
  },
  {
   "cell_type": "code",
   "execution_count": 5,
   "metadata": {},
   "outputs": [],
   "source": [
    "url = 'https://www.menu.am/en/yerevan/delivery/restaurant/papa-pizza.html'\n",
    "\n",
    "pizza_papa_pizza_beverages = get_prices(url, 'product pr-9989 cat-specific rc5')\n",
    "pizza_papa_pizza_pizza = get_prices(url, 'product pr-9983 cat-specific rc5')\n",
    "pizza_papa_pizza_pizza_small = get_prices(url, 'product pr-13482 cat-specific rc5')\n",
    "pizza_papa_pizza_roll = get_prices(url, 'product pr-10731 cat-specific rc5')\n",
    "\n",
    "pizza_papa_pizza_meal = pizza_papa_pizza_pizza + pizza_papa_pizza_pizza_small + pizza_papa_pizza_roll"
   ]
  },
  {
   "cell_type": "code",
   "execution_count": 6,
   "metadata": {},
   "outputs": [],
   "source": [
    "url = 'https://www.menu.am/en/yerevan/delivery/restaurant/labeerint.html'\n",
    "\n",
    "pizza_labeerint_soft_drinks = get_prices(url, 'product pr-7825 cat-specific rc5')\n",
    "pizza_labeerint_beers = get_prices(url, 'product pr-7873 cat-specific rc5')\n",
    "\n",
    "pizza_labeerint_beverages = pizza_labeerint_soft_drinks + pizza_labeerint_beers\n",
    "\n",
    "pizza_labeerint_sausages = get_prices(url, 'product pr-7871 cat-specific rc5')\n",
    "pizza_labeerint_cold = get_prices(url, 'product pr-7808 cat-specific rc5')\n",
    "pizza_labeerint_salads = get_prices(url, 'product pr-7811 cat-specific rc5')\n",
    "pizza_labeerint_pizza = get_prices(url, 'product pr-7815 cat-specific rc5')\n",
    "\n",
    "pizza_labeerint_meal = pizza_labeerint_sausages + pizza_labeerint_cold + pizza_labeerint_salads + pizza_labeerint_pizza"
   ]
  },
  {
   "cell_type": "code",
   "execution_count": 7,
   "metadata": {},
   "outputs": [],
   "source": [
    "url = 'https://www.menu.am/en/yerevan/delivery/restaurant/americano-pizza.html'\n",
    "\n",
    "pizza_americano_pizza_meal = get_prices(url, 'product pr-7078 cat-specific rc5')\n",
    "pizza_americano_pizza_beverages = get_prices(url, 'product pr-7079 cat-specific rc5')"
   ]
  },
  {
   "cell_type": "code",
   "execution_count": 8,
   "metadata": {},
   "outputs": [],
   "source": [
    "url = 'https://www.menu.am/en/yerevan/delivery/restaurant/limone.html'\n",
    "\n",
    "italian_limone_pizza = get_prices(url, 'product pr-12936 cat-specific rc5')\n",
    "italian_limone_sandwiches = get_prices(url, 'product pr-12937 cat-specific rc5 ')\n",
    "italian_limone_salads = get_prices(url, 'product pr-13005 cat-specific rc5')\n",
    "\n",
    "italian_limone_meal = italian_limone_pizza + italian_limone_sandwiches + italian_limone_salads\n",
    "\n",
    "\n",
    "italian_limone_beverages = get_prices(url, 'product pr-12938 cat-specific rc5')"
   ]
  },
  {
   "cell_type": "code",
   "execution_count": 9,
   "metadata": {},
   "outputs": [],
   "source": [
    "url = 'https://www.menu.am/en/yerevan/delivery/restaurant/vergnano.html'\n",
    "\n",
    "italian_vergnano_salads = get_prices(url, 'product pr-2931 cat-specific rc5')\n",
    "italian_vergnano_pizza = get_prices(url, 'product pr-2934 cat-specific rc5')\n",
    "italian_vergnano_pasta = get_prices(url, 'product pr-2935 cat-specific rc5')\n",
    "italian_vergnano_desserts = get_prices(url, 'product pr-2936 cat-specific rc5')\n",
    "\n",
    "italian_vergnano_meal = italian_vergnano_salads + italian_vergnano_pizza + italian_vergnano_pasta + italian_vergnano_desserts\n",
    "\n",
    "\n",
    "italian_vergnano_coffee = get_prices(url, 'product pr-2927 cat-specific rc5')\n",
    "italian_vergnano_tea = get_prices(url, 'product pr-7274 cat-specific rc5')\n",
    "italian_vergnano_soft = get_prices(url, 'product pr-2937 cat-specific rc5')\n",
    "\n",
    "italian_vergnano_beverages = italian_vergnano_coffee + italian_vergnano_tea + italian_vergnano_soft"
   ]
  },
  {
   "cell_type": "code",
   "execution_count": 10,
   "metadata": {},
   "outputs": [],
   "source": [
    "url = 'https://www.menu.am/en/yerevan/delivery/restaurant/napoli.html'\n",
    "\n",
    "italian_napoli_salads = get_prices(url, 'product pr-12389 cat-specific rc5')\n",
    "italian_napoli_soups = get_prices(url, 'product pr-12391 cat-specific rc5')\n",
    "italian_napoli_hot = get_prices(url, 'product pr-12393 cat-specific rc5')\n",
    "italian_napoli_pizza = get_prices(url, 'product pr-12396 cat-specific rc5')\n",
    "italian_napoli_cold = get_prices(url, 'product pr-12390 cat-specific rc5')\n",
    "\n",
    "italian_napoli_meal = italian_napoli_salads + italian_napoli_soups + italian_napoli_hot + italian_napoli_pizza + italian_napoli_cold\n",
    "\n",
    "italian_napoli_beverages = get_prices(url, 'product pr-12402 cat-specific rc5')"
   ]
  },
  {
   "cell_type": "code",
   "execution_count": 11,
   "metadata": {},
   "outputs": [],
   "source": [
    "write_csv(pizza_papa_pizza_meal,'pizza_papa_pizza_meal')\n",
    "write_csv(pizza_papa_pizza_beverages,'pizza_papa_pizza_beverages')\n",
    "write_csv(pizza_labeerint_beverages,'pizza_labeerint_beverages')\n",
    "write_csv(pizza_labeerint_meal,'pizza_labeerint_meal')\n",
    "write_csv(pizza_americano_pizza_meal,'pizza_americano_pizza_meal')\n",
    "write_csv(pizza_americano_pizza_beverages,'pizza_americano_pizza_beverages')\n",
    "\n",
    "write_csv(italian_limone_meal,'italian_limone_meal')\n",
    "write_csv(italian_limone_beverages,'italian_limone_beverages')\n",
    "write_csv(italian_vergnano_meal,'italian_vergnano_meal')\n",
    "write_csv(italian_vergnano_beverages,'italian_vergnano_beverages')\n",
    "write_csv(italian_napoli_meal,'italian_napoli_meal')\n",
    "write_csv(italian_napoli_beverages,'italian_napoli_beverages')"
   ]
  },
  {
   "cell_type": "code",
   "execution_count": 12,
   "metadata": {},
   "outputs": [],
   "source": [
    "# pizza_papa_pizza_meal = read_csv('pizza_papa_pizza_meal')\n",
    "# pizza_papa_pizza_beverages = read_csv('pizza_papa_pizza_beverages')\n",
    "# pizza_labeerint_beverages = read_csv('pizza_labeerint_beverages')\n",
    "# pizza_labeerint_meal = read_csv('pizza_labeerint_meal')\n",
    "# pizza_americano_pizza_meal = read_csv('pizza_americano_pizza_meal')\n",
    "# pizza_americano_pizza_beverages = read_csv('pizza_americano_pizza_beverages')\n",
    "\n",
    "# italian_limone_meal = read_csv('italian_limone_meal')\n",
    "# italian_limone_beverages = read_csv('italian_limone_beverages')\n",
    "# italian_vergnano_meal = read_csv('italian_vergnano_meal')\n",
    "# italian_vergnano_beverages = read_csv('italian_vergnano_beverages')\n",
    "# italian_napoli_meal = read_csv('italian_napoli_meal')\n",
    "# italian_napoli_beverages = read_csv('italian_napoli_beverages')"
   ]
  }
 ],
 "metadata": {
  "kernelspec": {
   "display_name": "Python 3",
   "language": "python",
   "name": "python3"
  },
  "language_info": {
   "codemirror_mode": {
    "name": "ipython",
    "version": 3
   },
   "file_extension": ".py",
   "mimetype": "text/x-python",
   "name": "python",
   "nbconvert_exporter": "python",
   "pygments_lexer": "ipython3",
   "version": "3.7.3"
  }
 },
 "nbformat": 4,
 "nbformat_minor": 2
}
