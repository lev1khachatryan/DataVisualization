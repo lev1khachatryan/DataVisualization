{
 "cells": [
  {
   "cell_type": "code",
   "execution_count": 1,
   "metadata": {},
   "outputs": [
    {
     "data": {
      "text/html": [
       "        <script type=\"text/javascript\">\n",
       "        window.PlotlyConfig = {MathJaxConfig: 'local'};\n",
       "        if (window.MathJax) {MathJax.Hub.Config({SVG: {font: \"STIX-Web\"}});}\n",
       "        if (typeof require !== 'undefined') {\n",
       "        require.undef(\"plotly\");\n",
       "        requirejs.config({\n",
       "            paths: {\n",
       "                'plotly': ['https://cdn.plot.ly/plotly-latest.min']\n",
       "            }\n",
       "        });\n",
       "        require(['plotly'], function(Plotly) {\n",
       "            window._Plotly = Plotly;\n",
       "        });\n",
       "        }\n",
       "        </script>\n",
       "        "
      ]
     },
     "metadata": {},
     "output_type": "display_data"
    }
   ],
   "source": [
    "import numpy as np\n",
    "import pandas as pd\n",
    "# from matplotlib import pyplot as plt\n",
    "import csv\n",
    "\n",
    "from plotly.offline import plot, iplot\n",
    "import plotly.graph_objs as go\n",
    "from plotly.offline import init_notebook_mode\n",
    "init_notebook_mode(connected=True)\n",
    "\n",
    "import warnings\n",
    "warnings.filterwarnings('ignore')"
   ]
  },
  {
   "cell_type": "code",
   "execution_count": 2,
   "metadata": {},
   "outputs": [],
   "source": [
    "def read_csv(csv_name, path = 'WebScrapingData'):\n",
    "    '''\n",
    "    Read data from csv as python list.\n",
    "    \n",
    "    Parameters:\n",
    "    csv_name (string): the name of csv that we whant to read from the disk.\n",
    "    path (string): the direction of that csv\n",
    "                     \n",
    "    Return (list): The list of csv's data\n",
    "    \n",
    "    '''\n",
    "    directory_and_file = path + '/' + csv_name + '.csv'\n",
    "    try:\n",
    "        with open(directory_and_file, 'r') as readFile:\n",
    "            reader = csv.reader(readFile)\n",
    "            lines = list(reader)\n",
    "            lines = lines[0]\n",
    "            lines = [int(i) for i in lines]\n",
    "        return lines\n",
    "    except:\n",
    "        print(\"Please specify valid arguments!\")"
   ]
  },
  {
   "cell_type": "code",
   "execution_count": 3,
   "metadata": {},
   "outputs": [],
   "source": [
    "pizza_papa_pizza_meal = read_csv('pizza_papa_pizza_meal')\n",
    "pizza_papa_pizza_beverage = read_csv('pizza_papa_pizza_beverages')\n",
    "pizza_labeerint_beverage = read_csv('pizza_labeerint_beverages')\n",
    "pizza_labeerint_meal = read_csv('pizza_labeerint_meal')\n",
    "pizza_americano_pizza_meal = read_csv('pizza_americano_pizza_meal')\n",
    "pizza_americano_pizza_beverage = read_csv('pizza_americano_pizza_beverages')\n",
    "\n",
    "italian_limone_meal = read_csv('italian_limone_meal')\n",
    "italian_limone_beverage = read_csv('italian_limone_beverages')\n",
    "italian_vergnano_meal = read_csv('italian_vergnano_meal')\n",
    "italian_vergnano_beverage = read_csv('italian_vergnano_beverages')\n",
    "italian_napoli_meal = read_csv('italian_napoli_meal')\n",
    "italian_napoli_beverage = read_csv('italian_napoli_beverages')"
   ]
  },
  {
   "cell_type": "code",
   "execution_count": 4,
   "metadata": {},
   "outputs": [],
   "source": [
    "avg_pizza_papa_pizza_meal = round(np.mean(pizza_papa_pizza_meal), 2)\n",
    "avg_pizza_labeerint_meal  = round(np.mean(pizza_labeerint_meal), 2)\n",
    "avg_pizza_americano_pizza_meal = round(np.mean(pizza_americano_pizza_meal), 2)\n",
    "\n",
    "avg_pizza_papa_pizza_beverage = round(np.mean(pizza_papa_pizza_beverage), 2)\n",
    "avg_pizza_labeerint_beverage = round(np.mean(pizza_labeerint_beverage), 2)\n",
    "avg_pizza_americano_pizza_beverage = round(np.mean(pizza_americano_pizza_beverage), 2)\n",
    "\n",
    "\n",
    "avg_italian_limone_meal = round(np.mean(italian_limone_meal), 2)\n",
    "avg_italian_vergnano_meal = round(np.mean(italian_vergnano_meal), 2)\n",
    "avg_italian_napoli_meal = round(np.mean(italian_napoli_meal), 2)\n",
    "\n",
    "avg_italian_limone_beverage = round(np.mean(italian_limone_beverage), 2)\n",
    "avg_italian_vergnano_beverage = round(np.mean(italian_vergnano_beverage), 2)\n",
    "avg_italian_napoli_beverage = round(np.mean(italian_napoli_beverage), 2)"
   ]
  },
  {
   "cell_type": "code",
   "execution_count": 5,
   "metadata": {},
   "outputs": [
    {
     "name": "stdout",
     "output_type": "stream",
     "text": [
      "--------------The average prices of meal over suppliers--------------\n",
      "The average price of meal in \"papa pizza\"       is: 2547.27\n",
      "The average price of meal in \"labeerint\"        is: 1708.62\n",
      "The average price of meal in \"americano pizza\"  is: 2631.25\n",
      "\n",
      "\n",
      "The average price of meal in \"limone\"       is: 3618.18\n",
      "The average price of meal in \"vergano\"        is: 1928.57\n",
      "The average price of meal in \"napoli\"  is: 1598.75\n",
      "\n",
      "\n",
      "\n",
      "\n",
      "--------The average prices of beverage over suppliers--------\n",
      "The average price of beverage in \"papa pizza\"       is: 400.0\n",
      "The average price of beverage in \"labeerint\"        is: 657.5\n",
      "The average price of beverage in \"americano pizza\"  is: 250.0\n",
      "\n",
      "\n",
      "The average price of beverage in \"limone\"       is: 600.0\n",
      "The average price of beverage in \"vergano\"        is: 1136.84\n",
      "The average price of beverage in \"napoli\"  is: 288.89\n"
     ]
    }
   ],
   "source": [
    "print('--------------The average prices of meal over suppliers--------------')\n",
    "print('The average price of meal in \"papa pizza\"       is: {}'.format(avg_pizza_papa_pizza_meal))\n",
    "print('The average price of meal in \"labeerint\"        is: {}'.format(avg_pizza_labeerint_meal))\n",
    "print('The average price of meal in \"americano pizza\"  is: {}'.format(avg_pizza_americano_pizza_meal))\n",
    "print('\\n')\n",
    "print('The average price of meal in \"limone\"       is: {}'.format(avg_italian_limone_meal))\n",
    "print('The average price of meal in \"vergano\"        is: {}'.format(avg_italian_vergnano_meal))\n",
    "print('The average price of meal in \"napoli\"  is: {}'.format(avg_italian_napoli_meal))\n",
    "\n",
    "print('\\n\\n\\n')\n",
    "print('--------The average prices of beverage over suppliers--------')\n",
    "print('The average price of beverage in \"papa pizza\"       is: {}'.format(avg_pizza_papa_pizza_beverage))\n",
    "print('The average price of beverage in \"labeerint\"        is: {}'.format(avg_pizza_labeerint_beverage))\n",
    "print('The average price of beverage in \"americano pizza\"  is: {}'.format(avg_pizza_americano_pizza_beverage))\n",
    "print('\\n')\n",
    "print('The average price of beverage in \"limone\"       is: {}'.format(avg_italian_limone_beverage))\n",
    "print('The average price of beverage in \"vergano\"        is: {}'.format(avg_italian_vergnano_beverage))\n",
    "print('The average price of beverage in \"napoli\"  is: {}'.format(avg_italian_napoli_beverage))"
   ]
  },
  {
   "cell_type": "code",
   "execution_count": 6,
   "metadata": {},
   "outputs": [
    {
     "data": {
      "application/vnd.plotly.v1+json": {
       "config": {
        "linkText": "Export to plot.ly",
        "plotlyServerURL": "https://plot.ly",
        "responsive": true,
        "showLink": false
       },
       "data": [
        {
         "orientation": "h",
         "type": "bar",
         "uid": "2334a823-7fd9-4e62-89a0-3a01487114f7",
         "x": [
          2547.27,
          1708.62,
          2631.25
         ],
         "y": [
          "papa pizza",
          "labeerint",
          "americano pizza"
         ]
        }
       ],
       "layout": {
        "title": {
         "text": "Average price of meal in Pizza cuisine"
        },
        "xaxis": {
         "title": {
          "text": "Price in AMD"
         }
        },
        "yaxis": {
         "tickangle": 45,
         "title": {
          "text": "Suppliers"
         }
        }
       }
      },
      "text/html": [
       "<div>\n",
       "        \n",
       "        \n",
       "            <div id=\"19d4fdce-5ef6-4c80-bf8b-08d63ca7a890\" class=\"plotly-graph-div\" style=\"height:525px; width:100%;\"></div>\n",
       "            <script type=\"text/javascript\">\n",
       "                require([\"plotly\"], function(Plotly) {\n",
       "                    window.PLOTLYENV=window.PLOTLYENV || {};\n",
       "                    window.PLOTLYENV.BASE_URL='https://plot.ly';\n",
       "                    \n",
       "                if (document.getElementById(\"19d4fdce-5ef6-4c80-bf8b-08d63ca7a890\")) {\n",
       "                    Plotly.newPlot(\n",
       "                        '19d4fdce-5ef6-4c80-bf8b-08d63ca7a890',\n",
       "                        [{\"orientation\": \"h\", \"type\": \"bar\", \"uid\": \"c30714ea-a5e2-46b1-b66f-cb91db22b11a\", \"x\": [2547.27, 1708.62, 2631.25], \"y\": [\"papa pizza\", \"labeerint\", \"americano pizza\"]}],\n",
       "                        {\"title\": {\"text\": \"Average price of meal in Pizza cuisine\"}, \"xaxis\": {\"title\": {\"text\": \"Price in AMD\"}}, \"yaxis\": {\"tickangle\": 45, \"title\": {\"text\": \"Suppliers\"}}},\n",
       "                        {\"showLink\": false, \"linkText\": \"Export to plot.ly\", \"plotlyServerURL\": \"https://plot.ly\", \"responsive\": true}\n",
       "                    ).then(function(){\n",
       "                            \n",
       "var gd = document.getElementById('19d4fdce-5ef6-4c80-bf8b-08d63ca7a890');\n",
       "var x = new MutationObserver(function (mutations, observer) {{\n",
       "        var display = window.getComputedStyle(gd).display;\n",
       "        if (!display || display === 'none') {{\n",
       "            console.log([gd, 'removed!']);\n",
       "            Plotly.purge(gd);\n",
       "            observer.disconnect();\n",
       "        }}\n",
       "}});\n",
       "\n",
       "// Listen for the removal of the full notebook cells\n",
       "var notebookContainer = gd.closest('#notebook-container');\n",
       "if (notebookContainer) {{\n",
       "    x.observe(notebookContainer, {childList: true});\n",
       "}}\n",
       "\n",
       "// Listen for the clearing of the current output cell\n",
       "var outputEl = gd.closest('.output');\n",
       "if (outputEl) {{\n",
       "    x.observe(outputEl, {childList: true});\n",
       "}}\n",
       "\n",
       "                        })\n",
       "                };\n",
       "                });\n",
       "            </script>\n",
       "        </div>"
      ]
     },
     "metadata": {},
     "output_type": "display_data"
    }
   ],
   "source": [
    "trace = go.Bar(x=[avg_pizza_papa_pizza_meal,\n",
    "                  avg_pizza_labeerint_meal,\n",
    "                  avg_pizza_americano_pizza_meal], y=['papa pizza', 'labeerint', 'americano pizza'], orientation=\"h\")\n",
    "\n",
    "data = [trace]\n",
    "layout = go.Layout(\n",
    "    title=go.layout.Title(\n",
    "        text='Average price of meal in Pizza cuisine'\n",
    "    ),\n",
    "    xaxis=go.layout.XAxis(\n",
    "        title=go.layout.xaxis.Title(\n",
    "            text='Price in AMD'\n",
    "        )\n",
    "    ),\n",
    "    yaxis=go.layout.YAxis(\n",
    "        title=go.layout.yaxis.Title(\n",
    "            text='Suppliers'\n",
    "        ),\n",
    "        tickangle=45\n",
    "    )\n",
    ")\n",
    "figure = dict(data=data,layout=layout)\n",
    "iplot(figure)"
   ]
  },
  {
   "cell_type": "code",
   "execution_count": 7,
   "metadata": {},
   "outputs": [
    {
     "data": {
      "application/vnd.plotly.v1+json": {
       "config": {
        "linkText": "Export to plot.ly",
        "plotlyServerURL": "https://plot.ly",
        "responsive": true,
        "showLink": false
       },
       "data": [
        {
         "orientation": "h",
         "type": "bar",
         "uid": "6243858b-e312-40c4-a1b3-cadf1de495e3",
         "x": [
          400,
          657.5,
          250
         ],
         "y": [
          "papa pizza",
          "labeerint",
          "americano pizza"
         ]
        }
       ],
       "layout": {
        "title": {
         "text": "Average price of beverage in Pizza cuisine"
        },
        "xaxis": {
         "title": {
          "text": "Price in AMD"
         }
        },
        "yaxis": {
         "tickangle": 45,
         "title": {
          "text": "Suppliers"
         }
        }
       }
      },
      "text/html": [
       "<div>\n",
       "        \n",
       "        \n",
       "            <div id=\"a9c6d68d-a937-497c-8154-2a13e1fa5dc6\" class=\"plotly-graph-div\" style=\"height:525px; width:100%;\"></div>\n",
       "            <script type=\"text/javascript\">\n",
       "                require([\"plotly\"], function(Plotly) {\n",
       "                    window.PLOTLYENV=window.PLOTLYENV || {};\n",
       "                    window.PLOTLYENV.BASE_URL='https://plot.ly';\n",
       "                    \n",
       "                if (document.getElementById(\"a9c6d68d-a937-497c-8154-2a13e1fa5dc6\")) {\n",
       "                    Plotly.newPlot(\n",
       "                        'a9c6d68d-a937-497c-8154-2a13e1fa5dc6',\n",
       "                        [{\"orientation\": \"h\", \"type\": \"bar\", \"uid\": \"04333451-38de-45a5-ba71-7607cf1b6ddd\", \"x\": [400.0, 657.5, 250.0], \"y\": [\"papa pizza\", \"labeerint\", \"americano pizza\"]}],\n",
       "                        {\"title\": {\"text\": \"Average price of beverage in Pizza cuisine\"}, \"xaxis\": {\"title\": {\"text\": \"Price in AMD\"}}, \"yaxis\": {\"tickangle\": 45, \"title\": {\"text\": \"Suppliers\"}}},\n",
       "                        {\"showLink\": false, \"linkText\": \"Export to plot.ly\", \"plotlyServerURL\": \"https://plot.ly\", \"responsive\": true}\n",
       "                    ).then(function(){\n",
       "                            \n",
       "var gd = document.getElementById('a9c6d68d-a937-497c-8154-2a13e1fa5dc6');\n",
       "var x = new MutationObserver(function (mutations, observer) {{\n",
       "        var display = window.getComputedStyle(gd).display;\n",
       "        if (!display || display === 'none') {{\n",
       "            console.log([gd, 'removed!']);\n",
       "            Plotly.purge(gd);\n",
       "            observer.disconnect();\n",
       "        }}\n",
       "}});\n",
       "\n",
       "// Listen for the removal of the full notebook cells\n",
       "var notebookContainer = gd.closest('#notebook-container');\n",
       "if (notebookContainer) {{\n",
       "    x.observe(notebookContainer, {childList: true});\n",
       "}}\n",
       "\n",
       "// Listen for the clearing of the current output cell\n",
       "var outputEl = gd.closest('.output');\n",
       "if (outputEl) {{\n",
       "    x.observe(outputEl, {childList: true});\n",
       "}}\n",
       "\n",
       "                        })\n",
       "                };\n",
       "                });\n",
       "            </script>\n",
       "        </div>"
      ]
     },
     "metadata": {},
     "output_type": "display_data"
    }
   ],
   "source": [
    "trace = go.Bar(x=[avg_pizza_papa_pizza_beverage,\n",
    "                  avg_pizza_labeerint_beverage,\n",
    "                  avg_pizza_americano_pizza_beverage], y=['papa pizza', 'labeerint', 'americano pizza'], orientation=\"h\")\n",
    "\n",
    "data = [trace]\n",
    "layout = go.Layout(\n",
    "    title=go.layout.Title(\n",
    "        text='Average price of beverage in Pizza cuisine'\n",
    "    ),\n",
    "    xaxis=go.layout.XAxis(\n",
    "        title=go.layout.xaxis.Title(\n",
    "            text='Price in AMD'\n",
    "        )\n",
    "    ),\n",
    "    yaxis=go.layout.YAxis(\n",
    "        title=go.layout.yaxis.Title(\n",
    "            text='Suppliers'\n",
    "        ),\n",
    "        tickangle=45\n",
    "    )\n",
    ")\n",
    "figure = dict(data=data,layout=layout)\n",
    "iplot(figure)"
   ]
  },
  {
   "cell_type": "code",
   "execution_count": 8,
   "metadata": {},
   "outputs": [
    {
     "data": {
      "application/vnd.plotly.v1+json": {
       "config": {
        "linkText": "Export to plot.ly",
        "plotlyServerURL": "https://plot.ly",
        "responsive": true,
        "showLink": false
       },
       "data": [
        {
         "orientation": "h",
         "type": "bar",
         "uid": "7f86f8ef-57e8-4f7f-8156-9aa96697275c",
         "x": [
          3618.18,
          1928.57,
          1598.75
         ],
         "y": [
          "limone",
          "vergano",
          "napoli"
         ]
        }
       ],
       "layout": {
        "title": {
         "text": "Average price of meal in Italian cuisine"
        },
        "xaxis": {
         "title": {
          "text": "Price in AMD"
         }
        },
        "yaxis": {
         "tickangle": 45,
         "title": {
          "text": "Suppliers"
         }
        }
       }
      },
      "text/html": [
       "<div>\n",
       "        \n",
       "        \n",
       "            <div id=\"1f5761fb-d69d-4683-a188-5be0250a2f28\" class=\"plotly-graph-div\" style=\"height:525px; width:100%;\"></div>\n",
       "            <script type=\"text/javascript\">\n",
       "                require([\"plotly\"], function(Plotly) {\n",
       "                    window.PLOTLYENV=window.PLOTLYENV || {};\n",
       "                    window.PLOTLYENV.BASE_URL='https://plot.ly';\n",
       "                    \n",
       "                if (document.getElementById(\"1f5761fb-d69d-4683-a188-5be0250a2f28\")) {\n",
       "                    Plotly.newPlot(\n",
       "                        '1f5761fb-d69d-4683-a188-5be0250a2f28',\n",
       "                        [{\"orientation\": \"h\", \"type\": \"bar\", \"uid\": \"ae4970a3-ccdb-40b4-9a21-59d50d415b62\", \"x\": [3618.18, 1928.57, 1598.75], \"y\": [\"limone\", \"vergano\", \"napoli\"]}],\n",
       "                        {\"title\": {\"text\": \"Average price of meal in Italian cuisine\"}, \"xaxis\": {\"title\": {\"text\": \"Price in AMD\"}}, \"yaxis\": {\"tickangle\": 45, \"title\": {\"text\": \"Suppliers\"}}},\n",
       "                        {\"showLink\": false, \"linkText\": \"Export to plot.ly\", \"plotlyServerURL\": \"https://plot.ly\", \"responsive\": true}\n",
       "                    ).then(function(){\n",
       "                            \n",
       "var gd = document.getElementById('1f5761fb-d69d-4683-a188-5be0250a2f28');\n",
       "var x = new MutationObserver(function (mutations, observer) {{\n",
       "        var display = window.getComputedStyle(gd).display;\n",
       "        if (!display || display === 'none') {{\n",
       "            console.log([gd, 'removed!']);\n",
       "            Plotly.purge(gd);\n",
       "            observer.disconnect();\n",
       "        }}\n",
       "}});\n",
       "\n",
       "// Listen for the removal of the full notebook cells\n",
       "var notebookContainer = gd.closest('#notebook-container');\n",
       "if (notebookContainer) {{\n",
       "    x.observe(notebookContainer, {childList: true});\n",
       "}}\n",
       "\n",
       "// Listen for the clearing of the current output cell\n",
       "var outputEl = gd.closest('.output');\n",
       "if (outputEl) {{\n",
       "    x.observe(outputEl, {childList: true});\n",
       "}}\n",
       "\n",
       "                        })\n",
       "                };\n",
       "                });\n",
       "            </script>\n",
       "        </div>"
      ]
     },
     "metadata": {},
     "output_type": "display_data"
    }
   ],
   "source": [
    "trace = go.Bar(x=[avg_italian_limone_meal,\n",
    "                  avg_italian_vergnano_meal,\n",
    "                  avg_italian_napoli_meal], y=['limone', 'vergano', 'napoli'], orientation=\"h\")\n",
    "\n",
    "data = [trace]\n",
    "layout = go.Layout(\n",
    "    title=go.layout.Title(\n",
    "        text='Average price of meal in Italian cuisine'\n",
    "    ),\n",
    "    xaxis=go.layout.XAxis(\n",
    "        title=go.layout.xaxis.Title(\n",
    "            text='Price in AMD'\n",
    "        )\n",
    "    ),\n",
    "    yaxis=go.layout.YAxis(\n",
    "        title=go.layout.yaxis.Title(\n",
    "            text='Suppliers'\n",
    "        ),\n",
    "        tickangle=45\n",
    "    )\n",
    ")\n",
    "figure = dict(data=data,layout=layout)\n",
    "iplot(figure)"
   ]
  },
  {
   "cell_type": "code",
   "execution_count": 9,
   "metadata": {},
   "outputs": [
    {
     "data": {
      "application/vnd.plotly.v1+json": {
       "config": {
        "linkText": "Export to plot.ly",
        "plotlyServerURL": "https://plot.ly",
        "responsive": true,
        "showLink": false
       },
       "data": [
        {
         "orientation": "h",
         "type": "bar",
         "uid": "7194bbd6-eee4-4ffd-b886-0fee0653709d",
         "x": [
          600,
          1136.84,
          288.89
         ],
         "y": [
          "limone",
          "vergano",
          "napoli"
         ]
        }
       ],
       "layout": {
        "title": {
         "text": "Average price of beverage in Italian cuisine"
        },
        "xaxis": {
         "title": {
          "text": "Price in AMD"
         }
        },
        "yaxis": {
         "tickangle": 45,
         "title": {
          "text": "Suppliers"
         }
        }
       }
      },
      "text/html": [
       "<div>\n",
       "        \n",
       "        \n",
       "            <div id=\"db404b92-eab5-4b78-b00c-fbc7c726a564\" class=\"plotly-graph-div\" style=\"height:525px; width:100%;\"></div>\n",
       "            <script type=\"text/javascript\">\n",
       "                require([\"plotly\"], function(Plotly) {\n",
       "                    window.PLOTLYENV=window.PLOTLYENV || {};\n",
       "                    window.PLOTLYENV.BASE_URL='https://plot.ly';\n",
       "                    \n",
       "                if (document.getElementById(\"db404b92-eab5-4b78-b00c-fbc7c726a564\")) {\n",
       "                    Plotly.newPlot(\n",
       "                        'db404b92-eab5-4b78-b00c-fbc7c726a564',\n",
       "                        [{\"orientation\": \"h\", \"type\": \"bar\", \"uid\": \"2b5ecbee-abe6-4171-9cab-5f5ca501e0da\", \"x\": [600.0, 1136.84, 288.89], \"y\": [\"limone\", \"vergano\", \"napoli\"]}],\n",
       "                        {\"title\": {\"text\": \"Average price of beverage in Italian cuisine\"}, \"xaxis\": {\"title\": {\"text\": \"Price in AMD\"}}, \"yaxis\": {\"tickangle\": 45, \"title\": {\"text\": \"Suppliers\"}}},\n",
       "                        {\"showLink\": false, \"linkText\": \"Export to plot.ly\", \"plotlyServerURL\": \"https://plot.ly\", \"responsive\": true}\n",
       "                    ).then(function(){\n",
       "                            \n",
       "var gd = document.getElementById('db404b92-eab5-4b78-b00c-fbc7c726a564');\n",
       "var x = new MutationObserver(function (mutations, observer) {{\n",
       "        var display = window.getComputedStyle(gd).display;\n",
       "        if (!display || display === 'none') {{\n",
       "            console.log([gd, 'removed!']);\n",
       "            Plotly.purge(gd);\n",
       "            observer.disconnect();\n",
       "        }}\n",
       "}});\n",
       "\n",
       "// Listen for the removal of the full notebook cells\n",
       "var notebookContainer = gd.closest('#notebook-container');\n",
       "if (notebookContainer) {{\n",
       "    x.observe(notebookContainer, {childList: true});\n",
       "}}\n",
       "\n",
       "// Listen for the clearing of the current output cell\n",
       "var outputEl = gd.closest('.output');\n",
       "if (outputEl) {{\n",
       "    x.observe(outputEl, {childList: true});\n",
       "}}\n",
       "\n",
       "                        })\n",
       "                };\n",
       "                });\n",
       "            </script>\n",
       "        </div>"
      ]
     },
     "metadata": {},
     "output_type": "display_data"
    }
   ],
   "source": [
    "trace = go.Bar(x=[avg_italian_limone_beverage,\n",
    "                  avg_italian_vergnano_beverage,\n",
    "                  avg_italian_napoli_beverage], y=['limone', 'vergano', 'napoli'], orientation=\"h\")\n",
    "\n",
    "data = [trace]\n",
    "layout = go.Layout(\n",
    "    title=go.layout.Title(\n",
    "        text='Average price of beverage in Italian cuisine'\n",
    "    ),\n",
    "    xaxis=go.layout.XAxis(\n",
    "        title=go.layout.xaxis.Title(\n",
    "            text='Price in AMD'\n",
    "        )\n",
    "    ),\n",
    "    yaxis=go.layout.YAxis(\n",
    "        title=go.layout.yaxis.Title(\n",
    "            text='Suppliers'\n",
    "        ),\n",
    "        tickangle=45\n",
    "    )\n",
    ")\n",
    "figure = dict(data=data,layout=layout)\n",
    "iplot(figure)"
   ]
  },
  {
   "cell_type": "code",
   "execution_count": 10,
   "metadata": {},
   "outputs": [
    {
     "data": {
      "application/vnd.plotly.v1+json": {
       "config": {
        "linkText": "Export to plot.ly",
        "plotlyServerURL": "https://plot.ly",
        "responsive": true,
        "showLink": false
       },
       "data": [
        {
         "name": "Pizza",
         "orientation": "h",
         "type": "bar",
         "uid": "558ca31f-93ed-4c7a-bd8a-be1ca22cc5f0",
         "x": [
          2547.27,
          1708.62,
          2631.25
         ],
         "y": [
          "papa pizza",
          "labeerint",
          "americano pizza"
         ]
        },
        {
         "name": "Italian",
         "orientation": "h",
         "type": "bar",
         "uid": "5ec76999-3d8d-4ab2-9768-68249066c6e9",
         "x": [
          3618.18,
          1928.57,
          1598.75
         ],
         "y": [
          "limone",
          "vergano",
          "napoli"
         ]
        }
       ],
       "layout": {
        "title": {
         "text": "Average price of meal"
        },
        "xaxis": {
         "title": {
          "text": "Price in AMD"
         }
        },
        "yaxis": {
         "tickangle": 45,
         "title": {
          "text": "Suppliers"
         }
        }
       }
      },
      "text/html": [
       "<div>\n",
       "        \n",
       "        \n",
       "            <div id=\"51dfcae4-fe78-427c-bfce-cc302e9a5d9d\" class=\"plotly-graph-div\" style=\"height:525px; width:100%;\"></div>\n",
       "            <script type=\"text/javascript\">\n",
       "                require([\"plotly\"], function(Plotly) {\n",
       "                    window.PLOTLYENV=window.PLOTLYENV || {};\n",
       "                    window.PLOTLYENV.BASE_URL='https://plot.ly';\n",
       "                    \n",
       "                if (document.getElementById(\"51dfcae4-fe78-427c-bfce-cc302e9a5d9d\")) {\n",
       "                    Plotly.newPlot(\n",
       "                        '51dfcae4-fe78-427c-bfce-cc302e9a5d9d',\n",
       "                        [{\"name\": \"Pizza\", \"orientation\": \"h\", \"type\": \"bar\", \"uid\": \"908cbef7-8da6-44c4-a4f2-da27ed0b1de5\", \"x\": [2547.27, 1708.62, 2631.25], \"y\": [\"papa pizza\", \"labeerint\", \"americano pizza\"]}, {\"name\": \"Italian\", \"orientation\": \"h\", \"type\": \"bar\", \"uid\": \"368f1b8e-03b7-4a5a-aa67-dcc2ef3894db\", \"x\": [3618.18, 1928.57, 1598.75], \"y\": [\"limone\", \"vergano\", \"napoli\"]}],\n",
       "                        {\"title\": {\"text\": \"Average price of meal\"}, \"xaxis\": {\"title\": {\"text\": \"Price in AMD\"}}, \"yaxis\": {\"tickangle\": 45, \"title\": {\"text\": \"Suppliers\"}}},\n",
       "                        {\"showLink\": false, \"linkText\": \"Export to plot.ly\", \"plotlyServerURL\": \"https://plot.ly\", \"responsive\": true}\n",
       "                    ).then(function(){\n",
       "                            \n",
       "var gd = document.getElementById('51dfcae4-fe78-427c-bfce-cc302e9a5d9d');\n",
       "var x = new MutationObserver(function (mutations, observer) {{\n",
       "        var display = window.getComputedStyle(gd).display;\n",
       "        if (!display || display === 'none') {{\n",
       "            console.log([gd, 'removed!']);\n",
       "            Plotly.purge(gd);\n",
       "            observer.disconnect();\n",
       "        }}\n",
       "}});\n",
       "\n",
       "// Listen for the removal of the full notebook cells\n",
       "var notebookContainer = gd.closest('#notebook-container');\n",
       "if (notebookContainer) {{\n",
       "    x.observe(notebookContainer, {childList: true});\n",
       "}}\n",
       "\n",
       "// Listen for the clearing of the current output cell\n",
       "var outputEl = gd.closest('.output');\n",
       "if (outputEl) {{\n",
       "    x.observe(outputEl, {childList: true});\n",
       "}}\n",
       "\n",
       "                        })\n",
       "                };\n",
       "                });\n",
       "            </script>\n",
       "        </div>"
      ]
     },
     "metadata": {},
     "output_type": "display_data"
    }
   ],
   "source": [
    "trace1 = go.Bar(x=[avg_pizza_papa_pizza_meal,\n",
    "                  avg_pizza_labeerint_meal,\n",
    "                  avg_pizza_americano_pizza_meal], y=['papa pizza', 'labeerint', 'americano pizza'], orientation=\"h\", name = 'Pizza')\n",
    "trace2 = go.Bar(x=[avg_italian_limone_meal,\n",
    "                  avg_italian_vergnano_meal,\n",
    "                  avg_italian_napoli_meal], y=['limone', 'vergano', 'napoli'], orientation=\"h\", name = 'Italian')\n",
    "\n",
    "data = [trace1, trace2]\n",
    "layout = go.Layout(\n",
    "    title=go.layout.Title(\n",
    "        text='Average price of meal'\n",
    "    ),\n",
    "    xaxis=go.layout.XAxis(\n",
    "        title=go.layout.xaxis.Title(\n",
    "            text='Price in AMD'\n",
    "        )\n",
    "    ),\n",
    "    yaxis=go.layout.YAxis(\n",
    "        title=go.layout.yaxis.Title(\n",
    "            text='Suppliers'\n",
    "        ),\n",
    "        tickangle=45\n",
    "    )\n",
    ")\n",
    "figure = dict(data=data,layout=layout)\n",
    "iplot(figure)"
   ]
  },
  {
   "cell_type": "code",
   "execution_count": 11,
   "metadata": {},
   "outputs": [
    {
     "data": {
      "application/vnd.plotly.v1+json": {
       "config": {
        "linkText": "Export to plot.ly",
        "plotlyServerURL": "https://plot.ly",
        "responsive": true,
        "showLink": false
       },
       "data": [
        {
         "name": "Pizza",
         "orientation": "h",
         "type": "bar",
         "uid": "f3b6c3de-ec03-4e5e-9354-656a85248560",
         "x": [
          400,
          657.5,
          250
         ],
         "y": [
          "papa pizza",
          "labeerint",
          "americano pizza"
         ]
        },
        {
         "name": "Italian",
         "orientation": "h",
         "type": "bar",
         "uid": "1dd1a7a7-03dc-4af7-b40e-7e568155c613",
         "x": [
          600,
          1136.84,
          288.89
         ],
         "y": [
          "limone",
          "vergano",
          "napoli"
         ]
        }
       ],
       "layout": {
        "title": {
         "text": "Average price of beverage"
        },
        "xaxis": {
         "title": {
          "text": "Price in AMD"
         }
        },
        "yaxis": {
         "tickangle": 45,
         "title": {
          "text": "Suppliers"
         }
        }
       }
      },
      "text/html": [
       "<div>\n",
       "        \n",
       "        \n",
       "            <div id=\"724e7c04-73c1-4b69-9ea7-5816840dea6f\" class=\"plotly-graph-div\" style=\"height:525px; width:100%;\"></div>\n",
       "            <script type=\"text/javascript\">\n",
       "                require([\"plotly\"], function(Plotly) {\n",
       "                    window.PLOTLYENV=window.PLOTLYENV || {};\n",
       "                    window.PLOTLYENV.BASE_URL='https://plot.ly';\n",
       "                    \n",
       "                if (document.getElementById(\"724e7c04-73c1-4b69-9ea7-5816840dea6f\")) {\n",
       "                    Plotly.newPlot(\n",
       "                        '724e7c04-73c1-4b69-9ea7-5816840dea6f',\n",
       "                        [{\"name\": \"Pizza\", \"orientation\": \"h\", \"type\": \"bar\", \"uid\": \"8ed8f618-7efa-4718-93e7-1a0be5dfe01e\", \"x\": [400.0, 657.5, 250.0], \"y\": [\"papa pizza\", \"labeerint\", \"americano pizza\"]}, {\"name\": \"Italian\", \"orientation\": \"h\", \"type\": \"bar\", \"uid\": \"c66f6d92-fdff-43f0-b93d-feaf1f2b83bf\", \"x\": [600.0, 1136.84, 288.89], \"y\": [\"limone\", \"vergano\", \"napoli\"]}],\n",
       "                        {\"title\": {\"text\": \"Average price of beverage\"}, \"xaxis\": {\"title\": {\"text\": \"Price in AMD\"}}, \"yaxis\": {\"tickangle\": 45, \"title\": {\"text\": \"Suppliers\"}}},\n",
       "                        {\"showLink\": false, \"linkText\": \"Export to plot.ly\", \"plotlyServerURL\": \"https://plot.ly\", \"responsive\": true}\n",
       "                    ).then(function(){\n",
       "                            \n",
       "var gd = document.getElementById('724e7c04-73c1-4b69-9ea7-5816840dea6f');\n",
       "var x = new MutationObserver(function (mutations, observer) {{\n",
       "        var display = window.getComputedStyle(gd).display;\n",
       "        if (!display || display === 'none') {{\n",
       "            console.log([gd, 'removed!']);\n",
       "            Plotly.purge(gd);\n",
       "            observer.disconnect();\n",
       "        }}\n",
       "}});\n",
       "\n",
       "// Listen for the removal of the full notebook cells\n",
       "var notebookContainer = gd.closest('#notebook-container');\n",
       "if (notebookContainer) {{\n",
       "    x.observe(notebookContainer, {childList: true});\n",
       "}}\n",
       "\n",
       "// Listen for the clearing of the current output cell\n",
       "var outputEl = gd.closest('.output');\n",
       "if (outputEl) {{\n",
       "    x.observe(outputEl, {childList: true});\n",
       "}}\n",
       "\n",
       "                        })\n",
       "                };\n",
       "                });\n",
       "            </script>\n",
       "        </div>"
      ]
     },
     "metadata": {},
     "output_type": "display_data"
    }
   ],
   "source": [
    "trace1 = go.Bar(x=[avg_pizza_papa_pizza_beverage,\n",
    "                  avg_pizza_labeerint_beverage,\n",
    "                  avg_pizza_americano_pizza_beverage], y=['papa pizza', 'labeerint', 'americano pizza'], orientation=\"h\", name = 'Pizza')\n",
    "trace2 = go.Bar(x=[avg_italian_limone_beverage,\n",
    "                  avg_italian_vergnano_beverage,\n",
    "                  avg_italian_napoli_beverage], y=['limone', 'vergano', 'napoli'], orientation=\"h\", name = 'Italian')\n",
    "\n",
    "data = [trace1, trace2]\n",
    "layout = go.Layout(\n",
    "    title=go.layout.Title(\n",
    "        text='Average price of beverage'\n",
    "    ),\n",
    "    xaxis=go.layout.XAxis(\n",
    "        title=go.layout.xaxis.Title(\n",
    "            text='Price in AMD'\n",
    "        )\n",
    "    ),\n",
    "    yaxis=go.layout.YAxis(\n",
    "        title=go.layout.yaxis.Title(\n",
    "            text='Suppliers'\n",
    "        ),\n",
    "        tickangle=45\n",
    "    )\n",
    ")\n",
    "figure = dict(data=data,layout=layout)\n",
    "iplot(figure)"
   ]
  },
  {
   "cell_type": "code",
   "execution_count": 12,
   "metadata": {},
   "outputs": [
    {
     "data": {
      "application/vnd.plotly.v1+json": {
       "config": {
        "linkText": "Export to plot.ly",
        "plotlyServerURL": "https://plot.ly",
        "responsive": true,
        "showLink": false
       },
       "data": [
        {
         "name": "papa pizza",
         "type": "scatter",
         "uid": "5003ce82-7b08-4be7-8ccd-53a51b0f3e33",
         "y": [
          350,
          350,
          350,
          450,
          450,
          450
         ]
        },
        {
         "name": "americano pizza",
         "type": "scatter",
         "uid": "1bccf167-aac4-45a5-81b4-eec77c942284",
         "y": [
          250,
          250,
          250
         ]
        },
        {
         "name": "labeerint",
         "type": "scatter",
         "uid": "9592ca19-0564-4d2e-a56d-cbabdd44546a",
         "y": [
          300,
          300,
          300,
          300,
          500,
          300,
          300,
          300,
          350,
          500,
          950,
          1850,
          550,
          550,
          600,
          700,
          1150,
          1150,
          1200,
          1000
         ]
        }
       ],
       "layout": {
        "title": {
         "text": "Beverage price distribution for Pizza cuisine"
        },
        "xaxis": {
         "autorange": true,
         "showline": false,
         "showticklabels": false,
         "ticks": ""
        },
        "yaxis": {
         "tickangle": 45,
         "title": {
          "text": "Price in AMD"
         }
        }
       }
      },
      "text/html": [
       "<div>\n",
       "        \n",
       "        \n",
       "            <div id=\"59a9f500-a74b-46d5-985b-79df866568ed\" class=\"plotly-graph-div\" style=\"height:525px; width:100%;\"></div>\n",
       "            <script type=\"text/javascript\">\n",
       "                require([\"plotly\"], function(Plotly) {\n",
       "                    window.PLOTLYENV=window.PLOTLYENV || {};\n",
       "                    window.PLOTLYENV.BASE_URL='https://plot.ly';\n",
       "                    \n",
       "                if (document.getElementById(\"59a9f500-a74b-46d5-985b-79df866568ed\")) {\n",
       "                    Plotly.newPlot(\n",
       "                        '59a9f500-a74b-46d5-985b-79df866568ed',\n",
       "                        [{\"name\": \"papa pizza\", \"type\": \"scatter\", \"uid\": \"9c3213bf-c1ab-445a-9946-44b907f28d68\", \"y\": [350, 350, 350, 450, 450, 450]}, {\"name\": \"americano pizza\", \"type\": \"scatter\", \"uid\": \"5508b09d-3f7a-4084-a735-7859ff651c7d\", \"y\": [250, 250, 250]}, {\"name\": \"labeerint\", \"type\": \"scatter\", \"uid\": \"580ce4aa-9412-4212-a46d-6a13e5672b4b\", \"y\": [300, 300, 300, 300, 500, 300, 300, 300, 350, 500, 950, 1850, 550, 550, 600, 700, 1150, 1150, 1200, 1000]}],\n",
       "                        {\"title\": {\"text\": \"Beverage price distribution for Pizza cuisine\"}, \"xaxis\": {\"autorange\": true, \"showline\": false, \"showticklabels\": false, \"ticks\": \"\"}, \"yaxis\": {\"tickangle\": 45, \"title\": {\"text\": \"Price in AMD\"}}},\n",
       "                        {\"showLink\": false, \"linkText\": \"Export to plot.ly\", \"plotlyServerURL\": \"https://plot.ly\", \"responsive\": true}\n",
       "                    ).then(function(){\n",
       "                            \n",
       "var gd = document.getElementById('59a9f500-a74b-46d5-985b-79df866568ed');\n",
       "var x = new MutationObserver(function (mutations, observer) {{\n",
       "        var display = window.getComputedStyle(gd).display;\n",
       "        if (!display || display === 'none') {{\n",
       "            console.log([gd, 'removed!']);\n",
       "            Plotly.purge(gd);\n",
       "            observer.disconnect();\n",
       "        }}\n",
       "}});\n",
       "\n",
       "// Listen for the removal of the full notebook cells\n",
       "var notebookContainer = gd.closest('#notebook-container');\n",
       "if (notebookContainer) {{\n",
       "    x.observe(notebookContainer, {childList: true});\n",
       "}}\n",
       "\n",
       "// Listen for the clearing of the current output cell\n",
       "var outputEl = gd.closest('.output');\n",
       "if (outputEl) {{\n",
       "    x.observe(outputEl, {childList: true});\n",
       "}}\n",
       "\n",
       "                        })\n",
       "                };\n",
       "                });\n",
       "            </script>\n",
       "        </div>"
      ]
     },
     "metadata": {},
     "output_type": "display_data"
    }
   ],
   "source": [
    "trace_1 = go.Scatter(y = pizza_papa_pizza_beverage,name = 'papa pizza' )\n",
    "trace_2 = go.Scatter(y = pizza_americano_pizza_beverage,name = 'americano pizza' )\n",
    "trace_3 = go.Scatter(y = pizza_labeerint_beverage,name = 'labeerint' )\n",
    "\n",
    "layout = go.Layout(\n",
    "    title=go.layout.Title(\n",
    "        text='Beverage price distribution for Pizza cuisine'\n",
    "    ),\n",
    "    xaxis=go.layout.XAxis(\n",
    "        autorange=True,\n",
    "        showline=False,\n",
    "        ticks='',\n",
    "        showticklabels=False\n",
    "    ),\n",
    "    yaxis=go.layout.YAxis(\n",
    "        title=go.layout.yaxis.Title(\n",
    "            text='Price in AMD'\n",
    "        ),\n",
    "        tickangle=45\n",
    "    )\n",
    ")\n",
    "\n",
    "data = [trace_1, trace_2, trace_3]\n",
    "figure = dict(data=data,layout=layout)\n",
    "iplot(figure)"
   ]
  },
  {
   "cell_type": "code",
   "execution_count": 13,
   "metadata": {},
   "outputs": [
    {
     "data": {
      "application/vnd.plotly.v1+json": {
       "config": {
        "linkText": "Export to plot.ly",
        "plotlyServerURL": "https://plot.ly",
        "responsive": true,
        "showLink": false
       },
       "data": [
        {
         "name": "papa pizza",
         "type": "scatter",
         "uid": "04a7b20f-f11c-4e7d-8d98-22a721828ce4",
         "y": [
          2900,
          3600,
          2500,
          2900,
          3800,
          1900,
          2600,
          3300,
          2300,
          2600,
          3500,
          2400,
          2600,
          3200,
          2400,
          2100,
          2600,
          2400,
          2500,
          3200,
          2400,
          2500,
          3000,
          2300,
          3500,
          4100,
          2600,
          2800,
          2800,
          3700,
          3000,
          3200,
          3700,
          3600,
          2800,
          3500,
          2000,
          1700,
          1800,
          2600,
          2300,
          1900,
          1700,
          1800,
          1500,
          1800,
          1700,
          1800,
          1800,
          1800,
          1900,
          2400,
          1600,
          1600,
          1600
         ]
        },
        {
         "name": "americano pizza",
         "type": "scatter",
         "uid": "20cc40f4-c05d-4c80-8493-a99b68727ec7",
         "y": [
          2600,
          2000,
          2200,
          2900,
          2800,
          2700,
          3000,
          2500,
          2700,
          1600,
          2700,
          3000,
          2600,
          2500,
          3000,
          3300
         ]
        },
        {
         "name": "labeerint",
         "type": "scatter",
         "uid": "9e1f5a95-428d-4b3e-a681-b88aa913b9f5",
         "y": [
          3300,
          4950,
          6700,
          2350,
          2300,
          1600,
          1000,
          1200,
          750,
          750,
          800,
          450,
          2200,
          2400,
          1650,
          2000,
          900,
          950,
          1200,
          1000,
          900,
          950,
          750,
          1000,
          800,
          1650,
          1700,
          1750,
          1600
         ]
        }
       ],
       "layout": {
        "title": {
         "text": "Meal price distribution for Pizza cuisine"
        },
        "xaxis": {
         "autorange": true,
         "showline": false,
         "showticklabels": false,
         "ticks": ""
        },
        "yaxis": {
         "tickangle": 45,
         "title": {
          "text": "Price in AMD"
         }
        }
       }
      },
      "text/html": [
       "<div>\n",
       "        \n",
       "        \n",
       "            <div id=\"6b5cd15e-f8d4-464a-a306-1e83ec4e4317\" class=\"plotly-graph-div\" style=\"height:525px; width:100%;\"></div>\n",
       "            <script type=\"text/javascript\">\n",
       "                require([\"plotly\"], function(Plotly) {\n",
       "                    window.PLOTLYENV=window.PLOTLYENV || {};\n",
       "                    window.PLOTLYENV.BASE_URL='https://plot.ly';\n",
       "                    \n",
       "                if (document.getElementById(\"6b5cd15e-f8d4-464a-a306-1e83ec4e4317\")) {\n",
       "                    Plotly.newPlot(\n",
       "                        '6b5cd15e-f8d4-464a-a306-1e83ec4e4317',\n",
       "                        [{\"name\": \"papa pizza\", \"type\": \"scatter\", \"uid\": \"8720beae-acdb-4af1-b3d3-5fd223ccc7bf\", \"y\": [2900, 3600, 2500, 2900, 3800, 1900, 2600, 3300, 2300, 2600, 3500, 2400, 2600, 3200, 2400, 2100, 2600, 2400, 2500, 3200, 2400, 2500, 3000, 2300, 3500, 4100, 2600, 2800, 2800, 3700, 3000, 3200, 3700, 3600, 2800, 3500, 2000, 1700, 1800, 2600, 2300, 1900, 1700, 1800, 1500, 1800, 1700, 1800, 1800, 1800, 1900, 2400, 1600, 1600, 1600]}, {\"name\": \"americano pizza\", \"type\": \"scatter\", \"uid\": \"55a35163-7ce5-463d-a0c4-fc9686e7898b\", \"y\": [2600, 2000, 2200, 2900, 2800, 2700, 3000, 2500, 2700, 1600, 2700, 3000, 2600, 2500, 3000, 3300]}, {\"name\": \"labeerint\", \"type\": \"scatter\", \"uid\": \"78c3bff8-d3c4-4029-8204-6a3bbebfa6f0\", \"y\": [3300, 4950, 6700, 2350, 2300, 1600, 1000, 1200, 750, 750, 800, 450, 2200, 2400, 1650, 2000, 900, 950, 1200, 1000, 900, 950, 750, 1000, 800, 1650, 1700, 1750, 1600]}],\n",
       "                        {\"title\": {\"text\": \"Meal price distribution for Pizza cuisine\"}, \"xaxis\": {\"autorange\": true, \"showline\": false, \"showticklabels\": false, \"ticks\": \"\"}, \"yaxis\": {\"tickangle\": 45, \"title\": {\"text\": \"Price in AMD\"}}},\n",
       "                        {\"showLink\": false, \"linkText\": \"Export to plot.ly\", \"plotlyServerURL\": \"https://plot.ly\", \"responsive\": true}\n",
       "                    ).then(function(){\n",
       "                            \n",
       "var gd = document.getElementById('6b5cd15e-f8d4-464a-a306-1e83ec4e4317');\n",
       "var x = new MutationObserver(function (mutations, observer) {{\n",
       "        var display = window.getComputedStyle(gd).display;\n",
       "        if (!display || display === 'none') {{\n",
       "            console.log([gd, 'removed!']);\n",
       "            Plotly.purge(gd);\n",
       "            observer.disconnect();\n",
       "        }}\n",
       "}});\n",
       "\n",
       "// Listen for the removal of the full notebook cells\n",
       "var notebookContainer = gd.closest('#notebook-container');\n",
       "if (notebookContainer) {{\n",
       "    x.observe(notebookContainer, {childList: true});\n",
       "}}\n",
       "\n",
       "// Listen for the clearing of the current output cell\n",
       "var outputEl = gd.closest('.output');\n",
       "if (outputEl) {{\n",
       "    x.observe(outputEl, {childList: true});\n",
       "}}\n",
       "\n",
       "                        })\n",
       "                };\n",
       "                });\n",
       "            </script>\n",
       "        </div>"
      ]
     },
     "metadata": {},
     "output_type": "display_data"
    }
   ],
   "source": [
    "trace_1 = go.Scatter(y = pizza_papa_pizza_meal,name = 'papa pizza' )\n",
    "trace_2 = go.Scatter(y = pizza_americano_pizza_meal,name = 'americano pizza' )\n",
    "trace_3 = go.Scatter(y = pizza_labeerint_meal,name = 'labeerint' )\n",
    "\n",
    "layout = go.Layout(\n",
    "    title=go.layout.Title(\n",
    "        text='Meal price distribution for Pizza cuisine'\n",
    "    ),\n",
    "    xaxis=go.layout.XAxis(\n",
    "        autorange=True,\n",
    "        showline=False,\n",
    "        ticks='',\n",
    "        showticklabels=False\n",
    "    ),\n",
    "    yaxis=go.layout.YAxis(\n",
    "        title=go.layout.yaxis.Title(\n",
    "            text='Price in AMD'\n",
    "        ),\n",
    "        tickangle=45\n",
    "    )\n",
    ")\n",
    "\n",
    "data = [trace_1, trace_2, trace_3]\n",
    "figure = dict(data=data,layout=layout)\n",
    "iplot(figure)"
   ]
  },
  {
   "cell_type": "code",
   "execution_count": 14,
   "metadata": {},
   "outputs": [
    {
     "data": {
      "application/vnd.plotly.v1+json": {
       "config": {
        "linkText": "Export to plot.ly",
        "plotlyServerURL": "https://plot.ly",
        "responsive": true,
        "showLink": false
       },
       "data": [
        {
         "name": "limone",
         "type": "scatter",
         "uid": "591e1065-5413-477d-a5f7-73d1488c3750",
         "y": [
          600,
          600,
          600
         ]
        },
        {
         "name": "napoli",
         "type": "scatter",
         "uid": "5690aacd-a419-460f-ba6d-1024b0894fb5",
         "y": [
          250,
          350,
          250,
          250,
          350,
          400,
          250,
          250,
          250
         ]
        },
        {
         "name": "vergano",
         "type": "scatter",
         "uid": "5e740d9e-b3b1-4f5d-817d-d188889b42e0",
         "y": [
          1000,
          1200,
          1200,
          1300,
          1500,
          1800,
          2000,
          1000,
          1500,
          1200,
          900,
          1300,
          600,
          600,
          600,
          600,
          1400,
          1400,
          500
         ]
        }
       ],
       "layout": {
        "title": {
         "text": "Beverage price distribution for Italian cuisine"
        },
        "xaxis": {
         "autorange": true,
         "showline": false,
         "showticklabels": false,
         "ticks": ""
        },
        "yaxis": {
         "tickangle": 45,
         "title": {
          "text": "Price in AMD"
         }
        }
       }
      },
      "text/html": [
       "<div>\n",
       "        \n",
       "        \n",
       "            <div id=\"2f29bf67-82d8-4946-b011-0ca73dd0089a\" class=\"plotly-graph-div\" style=\"height:525px; width:100%;\"></div>\n",
       "            <script type=\"text/javascript\">\n",
       "                require([\"plotly\"], function(Plotly) {\n",
       "                    window.PLOTLYENV=window.PLOTLYENV || {};\n",
       "                    window.PLOTLYENV.BASE_URL='https://plot.ly';\n",
       "                    \n",
       "                if (document.getElementById(\"2f29bf67-82d8-4946-b011-0ca73dd0089a\")) {\n",
       "                    Plotly.newPlot(\n",
       "                        '2f29bf67-82d8-4946-b011-0ca73dd0089a',\n",
       "                        [{\"name\": \"limone\", \"type\": \"scatter\", \"uid\": \"c325b380-4908-4fc2-9cd4-9468ee7f1f26\", \"y\": [600, 600, 600]}, {\"name\": \"napoli\", \"type\": \"scatter\", \"uid\": \"07f584d6-8b0e-4cff-b6b9-d7adbce2a7ab\", \"y\": [250, 350, 250, 250, 350, 400, 250, 250, 250]}, {\"name\": \"vergano\", \"type\": \"scatter\", \"uid\": \"f085cb1c-31a2-4bb2-9c65-04e89002f673\", \"y\": [1000, 1200, 1200, 1300, 1500, 1800, 2000, 1000, 1500, 1200, 900, 1300, 600, 600, 600, 600, 1400, 1400, 500]}],\n",
       "                        {\"title\": {\"text\": \"Beverage price distribution for Italian cuisine\"}, \"xaxis\": {\"autorange\": true, \"showline\": false, \"showticklabels\": false, \"ticks\": \"\"}, \"yaxis\": {\"tickangle\": 45, \"title\": {\"text\": \"Price in AMD\"}}},\n",
       "                        {\"showLink\": false, \"linkText\": \"Export to plot.ly\", \"plotlyServerURL\": \"https://plot.ly\", \"responsive\": true}\n",
       "                    ).then(function(){\n",
       "                            \n",
       "var gd = document.getElementById('2f29bf67-82d8-4946-b011-0ca73dd0089a');\n",
       "var x = new MutationObserver(function (mutations, observer) {{\n",
       "        var display = window.getComputedStyle(gd).display;\n",
       "        if (!display || display === 'none') {{\n",
       "            console.log([gd, 'removed!']);\n",
       "            Plotly.purge(gd);\n",
       "            observer.disconnect();\n",
       "        }}\n",
       "}});\n",
       "\n",
       "// Listen for the removal of the full notebook cells\n",
       "var notebookContainer = gd.closest('#notebook-container');\n",
       "if (notebookContainer) {{\n",
       "    x.observe(notebookContainer, {childList: true});\n",
       "}}\n",
       "\n",
       "// Listen for the clearing of the current output cell\n",
       "var outputEl = gd.closest('.output');\n",
       "if (outputEl) {{\n",
       "    x.observe(outputEl, {childList: true});\n",
       "}}\n",
       "\n",
       "                        })\n",
       "                };\n",
       "                });\n",
       "            </script>\n",
       "        </div>"
      ]
     },
     "metadata": {},
     "output_type": "display_data"
    }
   ],
   "source": [
    "trace_1 = go.Scatter(y = italian_limone_beverage,name = 'limone' )\n",
    "trace_2 = go.Scatter(y = italian_napoli_beverage,name = 'napoli' )\n",
    "trace_3 = go.Scatter(y = italian_vergnano_beverage,name = 'vergano' )\n",
    "\n",
    "layout = go.Layout(\n",
    "    title=go.layout.Title(\n",
    "        text='Beverage price distribution for Italian cuisine'\n",
    "    ),\n",
    "    xaxis=go.layout.XAxis(\n",
    "        autorange=True,\n",
    "        showline=False,\n",
    "        ticks='',\n",
    "        showticklabels=False\n",
    "    ),\n",
    "    yaxis=go.layout.YAxis(\n",
    "        title=go.layout.yaxis.Title(\n",
    "            text='Price in AMD'\n",
    "        ),\n",
    "        tickangle=45\n",
    "    )\n",
    ")\n",
    "\n",
    "data = [trace_1, trace_2, trace_3]\n",
    "figure = dict(data=data,layout=layout)\n",
    "iplot(figure)"
   ]
  },
  {
   "cell_type": "code",
   "execution_count": 15,
   "metadata": {},
   "outputs": [
    {
     "data": {
      "application/vnd.plotly.v1+json": {
       "config": {
        "linkText": "Export to plot.ly",
        "plotlyServerURL": "https://plot.ly",
        "responsive": true,
        "showLink": false
       },
       "data": [
        {
         "name": "limone",
         "type": "scatter",
         "uid": "88b37a3e-420f-4b4e-a4d9-45e2cd167b30",
         "y": [
          3800,
          3200,
          3900,
          3700,
          4600,
          3900,
          2800,
          2400,
          4800,
          2900,
          3800
         ]
        },
        {
         "name": "napoli",
         "type": "scatter",
         "uid": "38ba61e6-3132-4a21-b474-3b64cb81da45",
         "y": [
          1100,
          900,
          700,
          900,
          500,
          500,
          900,
          550,
          1200,
          1100,
          900,
          700,
          900,
          900,
          1800,
          700,
          1800,
          2000,
          2600,
          3500,
          1100,
          3100,
          900,
          2200,
          1000,
          2200,
          2700,
          2300,
          2700,
          1100,
          2900,
          1100,
          2300,
          1100,
          2400,
          2800,
          2800,
          3500,
          1300,
          300
         ]
        },
        {
         "name": "vergano",
         "type": "scatter",
         "uid": "51853efa-b8eb-4b4a-911b-d875a88258c5",
         "y": [
          1700,
          2200,
          2200,
          1900,
          1900,
          2100,
          1700,
          2100,
          2000,
          1800,
          2300,
          1900,
          2500,
          3000,
          2400,
          2600,
          2500,
          2200,
          2800,
          2400,
          900,
          1400,
          1800,
          1800,
          700,
          1800,
          600,
          800
         ]
        }
       ],
       "layout": {
        "title": {
         "text": "Meal price distribution for Italian cuisine"
        },
        "xaxis": {
         "autorange": true,
         "showline": false,
         "showticklabels": false,
         "ticks": ""
        },
        "yaxis": {
         "tickangle": 45,
         "title": {
          "text": "Price in AMD"
         }
        }
       }
      },
      "text/html": [
       "<div>\n",
       "        \n",
       "        \n",
       "            <div id=\"a3558d22-bab3-4324-b73b-786876046d81\" class=\"plotly-graph-div\" style=\"height:525px; width:100%;\"></div>\n",
       "            <script type=\"text/javascript\">\n",
       "                require([\"plotly\"], function(Plotly) {\n",
       "                    window.PLOTLYENV=window.PLOTLYENV || {};\n",
       "                    window.PLOTLYENV.BASE_URL='https://plot.ly';\n",
       "                    \n",
       "                if (document.getElementById(\"a3558d22-bab3-4324-b73b-786876046d81\")) {\n",
       "                    Plotly.newPlot(\n",
       "                        'a3558d22-bab3-4324-b73b-786876046d81',\n",
       "                        [{\"name\": \"limone\", \"type\": \"scatter\", \"uid\": \"502b5cb9-361f-440a-b7ec-451b0e68b23a\", \"y\": [3800, 3200, 3900, 3700, 4600, 3900, 2800, 2400, 4800, 2900, 3800]}, {\"name\": \"napoli\", \"type\": \"scatter\", \"uid\": \"db7ecef4-abd0-4bb8-9f79-07272391de33\", \"y\": [1100, 900, 700, 900, 500, 500, 900, 550, 1200, 1100, 900, 700, 900, 900, 1800, 700, 1800, 2000, 2600, 3500, 1100, 3100, 900, 2200, 1000, 2200, 2700, 2300, 2700, 1100, 2900, 1100, 2300, 1100, 2400, 2800, 2800, 3500, 1300, 300]}, {\"name\": \"vergano\", \"type\": \"scatter\", \"uid\": \"88b9b03e-d78f-457b-816a-6cac18659eb9\", \"y\": [1700, 2200, 2200, 1900, 1900, 2100, 1700, 2100, 2000, 1800, 2300, 1900, 2500, 3000, 2400, 2600, 2500, 2200, 2800, 2400, 900, 1400, 1800, 1800, 700, 1800, 600, 800]}],\n",
       "                        {\"title\": {\"text\": \"Meal price distribution for Italian cuisine\"}, \"xaxis\": {\"autorange\": true, \"showline\": false, \"showticklabels\": false, \"ticks\": \"\"}, \"yaxis\": {\"tickangle\": 45, \"title\": {\"text\": \"Price in AMD\"}}},\n",
       "                        {\"showLink\": false, \"linkText\": \"Export to plot.ly\", \"plotlyServerURL\": \"https://plot.ly\", \"responsive\": true}\n",
       "                    ).then(function(){\n",
       "                            \n",
       "var gd = document.getElementById('a3558d22-bab3-4324-b73b-786876046d81');\n",
       "var x = new MutationObserver(function (mutations, observer) {{\n",
       "        var display = window.getComputedStyle(gd).display;\n",
       "        if (!display || display === 'none') {{\n",
       "            console.log([gd, 'removed!']);\n",
       "            Plotly.purge(gd);\n",
       "            observer.disconnect();\n",
       "        }}\n",
       "}});\n",
       "\n",
       "// Listen for the removal of the full notebook cells\n",
       "var notebookContainer = gd.closest('#notebook-container');\n",
       "if (notebookContainer) {{\n",
       "    x.observe(notebookContainer, {childList: true});\n",
       "}}\n",
       "\n",
       "// Listen for the clearing of the current output cell\n",
       "var outputEl = gd.closest('.output');\n",
       "if (outputEl) {{\n",
       "    x.observe(outputEl, {childList: true});\n",
       "}}\n",
       "\n",
       "                        })\n",
       "                };\n",
       "                });\n",
       "            </script>\n",
       "        </div>"
      ]
     },
     "metadata": {},
     "output_type": "display_data"
    }
   ],
   "source": [
    "trace_1 = go.Scatter(y = italian_limone_meal,name = 'limone' )\n",
    "trace_2 = go.Scatter(y = italian_napoli_meal,name = 'napoli' )\n",
    "trace_3 = go.Scatter(y = italian_vergnano_meal,name = 'vergano' )\n",
    "\n",
    "layout = go.Layout(\n",
    "    title=go.layout.Title(\n",
    "        text='Meal price distribution for Italian cuisine'\n",
    "    ),\n",
    "    xaxis=go.layout.XAxis(\n",
    "        autorange=True,\n",
    "        showline=False,\n",
    "        ticks='',\n",
    "        showticklabels=False\n",
    "    ),\n",
    "    yaxis=go.layout.YAxis(\n",
    "        title=go.layout.yaxis.Title(\n",
    "            text='Price in AMD'\n",
    "        ),\n",
    "        tickangle=45\n",
    "    )\n",
    ")\n",
    "\n",
    "data = [trace_1, trace_2, trace_3]\n",
    "figure = dict(data=data,layout=layout)\n",
    "iplot(figure)"
   ]
  },
  {
   "cell_type": "code",
   "execution_count": 16,
   "metadata": {},
   "outputs": [
    {
     "data": {
      "application/vnd.plotly.v1+json": {
       "config": {
        "linkText": "Export to plot.ly",
        "plotlyServerURL": "https://plot.ly",
        "responsive": true,
        "showLink": false
       },
       "data": [
        {
         "name": "Pizza - papa pizza",
         "type": "scatter",
         "uid": "e7c67420-b890-487d-a9ac-c4f6e9bf6f64",
         "y": [
          350,
          350,
          350,
          450,
          450,
          450
         ]
        },
        {
         "name": "Pizza - americano pizza",
         "type": "scatter",
         "uid": "a7af6f4b-767a-49ff-b985-3876ddb223a7",
         "y": [
          250,
          250,
          250
         ]
        },
        {
         "name": "Pizza - labeerint",
         "type": "scatter",
         "uid": "35d897a6-75f4-4cc4-badc-956dab146383",
         "y": [
          300,
          300,
          300,
          300,
          500,
          300,
          300,
          300,
          350,
          500,
          950,
          1850,
          550,
          550,
          600,
          700,
          1150,
          1150,
          1200,
          1000
         ]
        },
        {
         "name": "Italian - limone",
         "type": "scatter",
         "uid": "7fed9929-1fd4-46b8-b1bb-756944510b48",
         "y": [
          600,
          600,
          600
         ]
        },
        {
         "name": "Italian - napoli",
         "type": "scatter",
         "uid": "ecfaa5c0-7f5b-45e0-88b8-5ab84f99a504",
         "y": [
          250,
          350,
          250,
          250,
          350,
          400,
          250,
          250,
          250
         ]
        },
        {
         "name": "Italian - vergano",
         "type": "scatter",
         "uid": "c92ca93a-45e4-4c38-bdf1-e89ad14155d9",
         "y": [
          1000,
          1200,
          1200,
          1300,
          1500,
          1800,
          2000,
          1000,
          1500,
          1200,
          900,
          1300,
          600,
          600,
          600,
          600,
          1400,
          1400,
          500
         ]
        }
       ],
       "layout": {
        "title": {
         "text": "Beverage price distribution"
        },
        "xaxis": {
         "autorange": true,
         "showline": false,
         "showticklabels": false,
         "ticks": ""
        },
        "yaxis": {
         "tickangle": 45,
         "title": {
          "text": "Price in AMD"
         }
        }
       }
      },
      "text/html": [
       "<div>\n",
       "        \n",
       "        \n",
       "            <div id=\"516891ab-569c-429c-8be3-975cc01acd1f\" class=\"plotly-graph-div\" style=\"height:525px; width:100%;\"></div>\n",
       "            <script type=\"text/javascript\">\n",
       "                require([\"plotly\"], function(Plotly) {\n",
       "                    window.PLOTLYENV=window.PLOTLYENV || {};\n",
       "                    window.PLOTLYENV.BASE_URL='https://plot.ly';\n",
       "                    \n",
       "                if (document.getElementById(\"516891ab-569c-429c-8be3-975cc01acd1f\")) {\n",
       "                    Plotly.newPlot(\n",
       "                        '516891ab-569c-429c-8be3-975cc01acd1f',\n",
       "                        [{\"name\": \"Pizza - papa pizza\", \"type\": \"scatter\", \"uid\": \"6aa7d7e9-4b80-49f7-945f-469a7d7b769c\", \"y\": [350, 350, 350, 450, 450, 450]}, {\"name\": \"Pizza - americano pizza\", \"type\": \"scatter\", \"uid\": \"0af9fc0c-0a84-4a2f-abcb-25b63556a2da\", \"y\": [250, 250, 250]}, {\"name\": \"Pizza - labeerint\", \"type\": \"scatter\", \"uid\": \"26fc9b7c-0b40-4d70-a2f8-2cf37f020693\", \"y\": [300, 300, 300, 300, 500, 300, 300, 300, 350, 500, 950, 1850, 550, 550, 600, 700, 1150, 1150, 1200, 1000]}, {\"name\": \"Italian - limone\", \"type\": \"scatter\", \"uid\": \"c7bee886-f320-4102-8efa-f5b4e77e2b55\", \"y\": [600, 600, 600]}, {\"name\": \"Italian - napoli\", \"type\": \"scatter\", \"uid\": \"197bce44-85ee-4680-a46a-55854d4111c4\", \"y\": [250, 350, 250, 250, 350, 400, 250, 250, 250]}, {\"name\": \"Italian - vergano\", \"type\": \"scatter\", \"uid\": \"ad312218-02a5-473d-9236-3133484aa17e\", \"y\": [1000, 1200, 1200, 1300, 1500, 1800, 2000, 1000, 1500, 1200, 900, 1300, 600, 600, 600, 600, 1400, 1400, 500]}],\n",
       "                        {\"title\": {\"text\": \"Beverage price distribution\"}, \"xaxis\": {\"autorange\": true, \"showline\": false, \"showticklabels\": false, \"ticks\": \"\"}, \"yaxis\": {\"tickangle\": 45, \"title\": {\"text\": \"Price in AMD\"}}},\n",
       "                        {\"showLink\": false, \"linkText\": \"Export to plot.ly\", \"plotlyServerURL\": \"https://plot.ly\", \"responsive\": true}\n",
       "                    ).then(function(){\n",
       "                            \n",
       "var gd = document.getElementById('516891ab-569c-429c-8be3-975cc01acd1f');\n",
       "var x = new MutationObserver(function (mutations, observer) {{\n",
       "        var display = window.getComputedStyle(gd).display;\n",
       "        if (!display || display === 'none') {{\n",
       "            console.log([gd, 'removed!']);\n",
       "            Plotly.purge(gd);\n",
       "            observer.disconnect();\n",
       "        }}\n",
       "}});\n",
       "\n",
       "// Listen for the removal of the full notebook cells\n",
       "var notebookContainer = gd.closest('#notebook-container');\n",
       "if (notebookContainer) {{\n",
       "    x.observe(notebookContainer, {childList: true});\n",
       "}}\n",
       "\n",
       "// Listen for the clearing of the current output cell\n",
       "var outputEl = gd.closest('.output');\n",
       "if (outputEl) {{\n",
       "    x.observe(outputEl, {childList: true});\n",
       "}}\n",
       "\n",
       "                        })\n",
       "                };\n",
       "                });\n",
       "            </script>\n",
       "        </div>"
      ]
     },
     "metadata": {},
     "output_type": "display_data"
    }
   ],
   "source": [
    "trace_1 = go.Scatter(y = pizza_papa_pizza_beverage,name = 'Pizza - papa pizza' )\n",
    "trace_2 = go.Scatter(y = pizza_americano_pizza_beverage,name = 'Pizza - americano pizza' )\n",
    "trace_3 = go.Scatter(y = pizza_labeerint_beverage,name = 'Pizza - labeerint' )\n",
    "\n",
    "trace_4 = go.Scatter(y = italian_limone_beverage,name = 'Italian - limone' )\n",
    "trace_5 = go.Scatter(y = italian_napoli_beverage,name = 'Italian - napoli' )\n",
    "trace_6 = go.Scatter(y = italian_vergnano_beverage,name = 'Italian - vergano' )\n",
    "\n",
    "layout = go.Layout(\n",
    "    title=go.layout.Title(\n",
    "        text='Beverage price distribution'\n",
    "    ),\n",
    "    xaxis=go.layout.XAxis(\n",
    "        autorange=True,\n",
    "        showline=False,\n",
    "        ticks='',\n",
    "        showticklabels=False\n",
    "    ),\n",
    "    yaxis=go.layout.YAxis(\n",
    "        title=go.layout.yaxis.Title(\n",
    "            text='Price in AMD'\n",
    "        ),\n",
    "        tickangle=45\n",
    "    )\n",
    ")\n",
    "\n",
    "data = [trace_1, trace_2, trace_3, trace_4, trace_5, trace_6]\n",
    "figure = dict(data=data,layout=layout)\n",
    "iplot(figure)"
   ]
  },
  {
   "cell_type": "code",
   "execution_count": 17,
   "metadata": {},
   "outputs": [
    {
     "data": {
      "application/vnd.plotly.v1+json": {
       "config": {
        "linkText": "Export to plot.ly",
        "plotlyServerURL": "https://plot.ly",
        "responsive": true,
        "showLink": false
       },
       "data": [
        {
         "name": "Pizza - papa pizza",
         "type": "scatter",
         "uid": "3196781c-e441-4d97-bd90-309febd9aea4",
         "y": [
          2900,
          3600,
          2500,
          2900,
          3800,
          1900,
          2600,
          3300,
          2300,
          2600,
          3500,
          2400,
          2600,
          3200,
          2400,
          2100,
          2600,
          2400,
          2500,
          3200,
          2400,
          2500,
          3000,
          2300,
          3500,
          4100,
          2600,
          2800,
          2800,
          3700,
          3000,
          3200,
          3700,
          3600,
          2800,
          3500,
          2000,
          1700,
          1800,
          2600,
          2300,
          1900,
          1700,
          1800,
          1500,
          1800,
          1700,
          1800,
          1800,
          1800,
          1900,
          2400,
          1600,
          1600,
          1600
         ]
        },
        {
         "name": "Pizza - americano pizza",
         "type": "scatter",
         "uid": "f8986b63-89dc-43c1-b6a0-9299575c578a",
         "y": [
          2600,
          2000,
          2200,
          2900,
          2800,
          2700,
          3000,
          2500,
          2700,
          1600,
          2700,
          3000,
          2600,
          2500,
          3000,
          3300
         ]
        },
        {
         "name": "Pizza - labeerint",
         "type": "scatter",
         "uid": "d2218c4e-c9de-4160-980a-514df93d3290",
         "y": [
          3300,
          4950,
          6700,
          2350,
          2300,
          1600,
          1000,
          1200,
          750,
          750,
          800,
          450,
          2200,
          2400,
          1650,
          2000,
          900,
          950,
          1200,
          1000,
          900,
          950,
          750,
          1000,
          800,
          1650,
          1700,
          1750,
          1600
         ]
        },
        {
         "name": "Italian - limone",
         "type": "scatter",
         "uid": "bc508555-298e-48e8-be93-89478992e05d",
         "y": [
          3800,
          3200,
          3900,
          3700,
          4600,
          3900,
          2800,
          2400,
          4800,
          2900,
          3800
         ]
        },
        {
         "name": "Italian - napoli",
         "type": "scatter",
         "uid": "4306f6c9-f69d-4128-8b97-db39edbc7a6c",
         "y": [
          1100,
          900,
          700,
          900,
          500,
          500,
          900,
          550,
          1200,
          1100,
          900,
          700,
          900,
          900,
          1800,
          700,
          1800,
          2000,
          2600,
          3500,
          1100,
          3100,
          900,
          2200,
          1000,
          2200,
          2700,
          2300,
          2700,
          1100,
          2900,
          1100,
          2300,
          1100,
          2400,
          2800,
          2800,
          3500,
          1300,
          300
         ]
        },
        {
         "name": "Italian - vergano",
         "type": "scatter",
         "uid": "744ab47a-9b61-4ffb-90ad-00261a3f6f5e",
         "y": [
          1700,
          2200,
          2200,
          1900,
          1900,
          2100,
          1700,
          2100,
          2000,
          1800,
          2300,
          1900,
          2500,
          3000,
          2400,
          2600,
          2500,
          2200,
          2800,
          2400,
          900,
          1400,
          1800,
          1800,
          700,
          1800,
          600,
          800
         ]
        }
       ],
       "layout": {
        "title": {
         "text": "Meal price distribution"
        },
        "xaxis": {
         "autorange": true,
         "showline": false,
         "showticklabels": false,
         "ticks": ""
        },
        "yaxis": {
         "tickangle": 45,
         "title": {
          "text": "Price in AMD"
         }
        }
       }
      },
      "text/html": [
       "<div>\n",
       "        \n",
       "        \n",
       "            <div id=\"231bdb3c-a054-4f33-800c-2ade8bdbc2f5\" class=\"plotly-graph-div\" style=\"height:525px; width:100%;\"></div>\n",
       "            <script type=\"text/javascript\">\n",
       "                require([\"plotly\"], function(Plotly) {\n",
       "                    window.PLOTLYENV=window.PLOTLYENV || {};\n",
       "                    window.PLOTLYENV.BASE_URL='https://plot.ly';\n",
       "                    \n",
       "                if (document.getElementById(\"231bdb3c-a054-4f33-800c-2ade8bdbc2f5\")) {\n",
       "                    Plotly.newPlot(\n",
       "                        '231bdb3c-a054-4f33-800c-2ade8bdbc2f5',\n",
       "                        [{\"name\": \"Pizza - papa pizza\", \"type\": \"scatter\", \"uid\": \"2f421525-f8df-450c-9b0a-fae59a989197\", \"y\": [2900, 3600, 2500, 2900, 3800, 1900, 2600, 3300, 2300, 2600, 3500, 2400, 2600, 3200, 2400, 2100, 2600, 2400, 2500, 3200, 2400, 2500, 3000, 2300, 3500, 4100, 2600, 2800, 2800, 3700, 3000, 3200, 3700, 3600, 2800, 3500, 2000, 1700, 1800, 2600, 2300, 1900, 1700, 1800, 1500, 1800, 1700, 1800, 1800, 1800, 1900, 2400, 1600, 1600, 1600]}, {\"name\": \"Pizza - americano pizza\", \"type\": \"scatter\", \"uid\": \"70faa117-7fe7-4b66-8aa9-0ebc6400ae14\", \"y\": [2600, 2000, 2200, 2900, 2800, 2700, 3000, 2500, 2700, 1600, 2700, 3000, 2600, 2500, 3000, 3300]}, {\"name\": \"Pizza - labeerint\", \"type\": \"scatter\", \"uid\": \"b6355261-f892-43ea-905a-40d91ac115ef\", \"y\": [3300, 4950, 6700, 2350, 2300, 1600, 1000, 1200, 750, 750, 800, 450, 2200, 2400, 1650, 2000, 900, 950, 1200, 1000, 900, 950, 750, 1000, 800, 1650, 1700, 1750, 1600]}, {\"name\": \"Italian - limone\", \"type\": \"scatter\", \"uid\": \"9efd929d-5d75-4e31-a434-c98991f934e7\", \"y\": [3800, 3200, 3900, 3700, 4600, 3900, 2800, 2400, 4800, 2900, 3800]}, {\"name\": \"Italian - napoli\", \"type\": \"scatter\", \"uid\": \"24f24d27-6572-41b9-aee4-153910f574c7\", \"y\": [1100, 900, 700, 900, 500, 500, 900, 550, 1200, 1100, 900, 700, 900, 900, 1800, 700, 1800, 2000, 2600, 3500, 1100, 3100, 900, 2200, 1000, 2200, 2700, 2300, 2700, 1100, 2900, 1100, 2300, 1100, 2400, 2800, 2800, 3500, 1300, 300]}, {\"name\": \"Italian - vergano\", \"type\": \"scatter\", \"uid\": \"b6265343-7095-470f-9f06-5fd9b5b06d33\", \"y\": [1700, 2200, 2200, 1900, 1900, 2100, 1700, 2100, 2000, 1800, 2300, 1900, 2500, 3000, 2400, 2600, 2500, 2200, 2800, 2400, 900, 1400, 1800, 1800, 700, 1800, 600, 800]}],\n",
       "                        {\"title\": {\"text\": \"Meal price distribution\"}, \"xaxis\": {\"autorange\": true, \"showline\": false, \"showticklabels\": false, \"ticks\": \"\"}, \"yaxis\": {\"tickangle\": 45, \"title\": {\"text\": \"Price in AMD\"}}},\n",
       "                        {\"showLink\": false, \"linkText\": \"Export to plot.ly\", \"plotlyServerURL\": \"https://plot.ly\", \"responsive\": true}\n",
       "                    ).then(function(){\n",
       "                            \n",
       "var gd = document.getElementById('231bdb3c-a054-4f33-800c-2ade8bdbc2f5');\n",
       "var x = new MutationObserver(function (mutations, observer) {{\n",
       "        var display = window.getComputedStyle(gd).display;\n",
       "        if (!display || display === 'none') {{\n",
       "            console.log([gd, 'removed!']);\n",
       "            Plotly.purge(gd);\n",
       "            observer.disconnect();\n",
       "        }}\n",
       "}});\n",
       "\n",
       "// Listen for the removal of the full notebook cells\n",
       "var notebookContainer = gd.closest('#notebook-container');\n",
       "if (notebookContainer) {{\n",
       "    x.observe(notebookContainer, {childList: true});\n",
       "}}\n",
       "\n",
       "// Listen for the clearing of the current output cell\n",
       "var outputEl = gd.closest('.output');\n",
       "if (outputEl) {{\n",
       "    x.observe(outputEl, {childList: true});\n",
       "}}\n",
       "\n",
       "                        })\n",
       "                };\n",
       "                });\n",
       "            </script>\n",
       "        </div>"
      ]
     },
     "metadata": {},
     "output_type": "display_data"
    }
   ],
   "source": [
    "trace_1 = go.Scatter(y = pizza_papa_pizza_meal,name = 'Pizza - papa pizza' )\n",
    "trace_2 = go.Scatter(y = pizza_americano_pizza_meal,name = 'Pizza - americano pizza' )\n",
    "trace_3 = go.Scatter(y = pizza_labeerint_meal,name = 'Pizza - labeerint' )\n",
    "\n",
    "trace_4 = go.Scatter(y = italian_limone_meal,name = 'Italian - limone' )\n",
    "trace_5 = go.Scatter(y = italian_napoli_meal,name = 'Italian - napoli' )\n",
    "trace_6 = go.Scatter(y = italian_vergnano_meal,name = 'Italian - vergano' )\n",
    "\n",
    "layout = go.Layout(\n",
    "    title=go.layout.Title(\n",
    "        text='Meal price distribution'\n",
    "    ),\n",
    "    xaxis=go.layout.XAxis(\n",
    "        autorange=True,\n",
    "        showline=False,\n",
    "        ticks='',\n",
    "        showticklabels=False\n",
    "    ),\n",
    "    yaxis=go.layout.YAxis(\n",
    "        title=go.layout.yaxis.Title(\n",
    "            text='Price in AMD'\n",
    "        ),\n",
    "        tickangle=45\n",
    "    )\n",
    ")\n",
    "\n",
    "data = [trace_1, trace_2, trace_3, trace_4, trace_5, trace_6]\n",
    "figure = dict(data=data,layout=layout)\n",
    "iplot(figure)"
   ]
  },
  {
   "cell_type": "markdown",
   "metadata": {},
   "source": [
    " # <div align=\"center\">Conclusion</div>\n",
    "---------------------------------------------------------------------\n",
    "\n",
    "According to above plotted graphs we can say that the most **expensive** supplier for beverage is \"Vergano\" and for meal is \"Lemone\". The **cheapest** supplier for beverage is \"americano pizza\" and for meal is \"napoli\". "
   ]
  }
 ],
 "metadata": {
  "kernelspec": {
   "display_name": "Python 3",
   "language": "python",
   "name": "python3"
  },
  "language_info": {
   "codemirror_mode": {
    "name": "ipython",
    "version": 3
   },
   "file_extension": ".py",
   "mimetype": "text/x-python",
   "name": "python",
   "nbconvert_exporter": "python",
   "pygments_lexer": "ipython3",
   "version": "3.7.3"
  }
 },
 "nbformat": 4,
 "nbformat_minor": 2
}
