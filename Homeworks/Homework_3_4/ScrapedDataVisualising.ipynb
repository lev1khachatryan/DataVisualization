{
 "cells": [
  {
   "cell_type": "code",
   "execution_count": 1,
   "metadata": {},
   "outputs": [
    {
     "data": {
      "text/html": [
       "        <script type=\"text/javascript\">\n",
       "        window.PlotlyConfig = {MathJaxConfig: 'local'};\n",
       "        if (window.MathJax) {MathJax.Hub.Config({SVG: {font: \"STIX-Web\"}});}\n",
       "        if (typeof require !== 'undefined') {\n",
       "        require.undef(\"plotly\");\n",
       "        requirejs.config({\n",
       "            paths: {\n",
       "                'plotly': ['https://cdn.plot.ly/plotly-latest.min']\n",
       "            }\n",
       "        });\n",
       "        require(['plotly'], function(Plotly) {\n",
       "            window._Plotly = Plotly;\n",
       "        });\n",
       "        }\n",
       "        </script>\n",
       "        "
      ]
     },
     "metadata": {},
     "output_type": "display_data"
    }
   ],
   "source": [
    "import numpy as np\n",
    "import pandas as pd\n",
    "from matplotlib import pyplot as plt\n",
    "import csv\n",
    "\n",
    "from plotly.offline import plot, iplot\n",
    "import plotly.graph_objs as go\n",
    "from plotly.offline import init_notebook_mode\n",
    "init_notebook_mode(connected=True)\n",
    "\n",
    "import warnings\n",
    "warnings.filterwarnings('ignore')"
   ]
  },
  {
   "cell_type": "code",
   "execution_count": 2,
   "metadata": {},
   "outputs": [],
   "source": [
    "def read_csv(csv_name, path = 'WebScrapingData'):\n",
    "    '''\n",
    "    Read data from csv as python list.\n",
    "    \n",
    "    Parameters:\n",
    "    csv_name (string): the name of csv that we whant to read from the disk.\n",
    "    path (string): the direction of that csv\n",
    "                     \n",
    "    Return (list): The list of csv's data\n",
    "    \n",
    "    '''\n",
    "    directory_and_file = path + '/' + csv_name + '.csv'\n",
    "    try:\n",
    "        with open(directory_and_file, 'r') as readFile:\n",
    "            reader = csv.reader(readFile)\n",
    "            lines = list(reader)\n",
    "            lines = lines[0]\n",
    "            lines = [int(i) for i in lines]\n",
    "        return lines\n",
    "    except:\n",
    "        print(\"Please specify valid arguments!\")"
   ]
  },
  {
   "cell_type": "code",
   "execution_count": 3,
   "metadata": {},
   "outputs": [],
   "source": [
    "pizza_papa_pizza_meal = read_csv('pizza_papa_pizza_meal')\n",
    "pizza_papa_pizza_beverage = read_csv('pizza_papa_pizza_beverages')\n",
    "pizza_labeerint_beverage = read_csv('pizza_labeerint_beverages')\n",
    "pizza_labeerint_meal = read_csv('pizza_labeerint_meal')\n",
    "pizza_americano_pizza_meal = read_csv('pizza_americano_pizza_meal')\n",
    "pizza_americano_pizza_beverage = read_csv('pizza_americano_pizza_beverages')\n",
    "\n",
    "italian_limone_meal = read_csv('italian_limone_meal')\n",
    "italian_limone_beverage = read_csv('italian_limone_beverages')\n",
    "italian_vergnano_meal = read_csv('italian_vergnano_meal')\n",
    "italian_vergnano_beverage = read_csv('italian_vergnano_beverages')\n",
    "italian_napoli_meal = read_csv('italian_napoli_meal')\n",
    "italian_napoli_beverage = read_csv('italian_napoli_beverages')"
   ]
  },
  {
   "cell_type": "code",
   "execution_count": 4,
   "metadata": {},
   "outputs": [],
   "source": [
    "avg_pizza_papa_pizza_meal = round(np.mean(pizza_papa_pizza_meal), 2)\n",
    "avg_pizza_labeerint_meal  = round(np.mean(pizza_labeerint_meal), 2)\n",
    "avg_pizza_americano_pizza_meal = round(np.mean(pizza_americano_pizza_meal), 2)\n",
    "\n",
    "avg_pizza_papa_pizza_beverage = round(np.mean(pizza_papa_pizza_beverage), 2)\n",
    "avg_pizza_labeerint_beverage = round(np.mean(pizza_labeerint_beverage), 2)\n",
    "avg_pizza_americano_pizza_beverage = round(np.mean(pizza_americano_pizza_beverage), 2)\n",
    "\n",
    "\n",
    "avg_italian_limone_meal = round(np.mean(italian_limone_meal), 2)\n",
    "avg_italian_vergnano_meal = round(np.mean(italian_vergnano_meal), 2)\n",
    "avg_italian_napoli_meal = round(np.mean(italian_napoli_meal), 2)\n",
    "\n",
    "avg_italian_limone_beverage = round(np.mean(italian_limone_beverage), 2)\n",
    "avg_italian_vergnano_beverage = round(np.mean(italian_vergnano_beverage), 2)\n",
    "avg_italian_napoli_beverage = round(np.mean(italian_napoli_beverage), 2)"
   ]
  },
  {
   "cell_type": "code",
   "execution_count": 5,
   "metadata": {},
   "outputs": [
    {
     "name": "stdout",
     "output_type": "stream",
     "text": [
      "--------------The average prices of meal over suppliers--------------\n",
      "The average price of meal in \"papa pizza\"       is: 2547.27\n",
      "The average price of meal in \"labeerint\"        is: 1708.62\n",
      "The average price of meal in \"americano pizza\"  is: 2631.25\n",
      "\n",
      "\n",
      "The average price of meal in \"limone\"       is: 3618.18\n",
      "The average price of meal in \"vergano\"        is: 1928.57\n",
      "The average price of meal in \"napoli\"  is: 1598.75\n",
      "\n",
      "\n",
      "\n",
      "\n",
      "--------The average prices of beverage over suppliers--------\n",
      "The average price of beverage in \"papa pizza\"       is: 400.0\n",
      "The average price of beverage in \"labeerint\"        is: 657.5\n",
      "The average price of beverage in \"americano pizza\"  is: 250.0\n",
      "\n",
      "\n",
      "The average price of beverage in \"limone\"       is: 600.0\n",
      "The average price of beverage in \"vergano\"        is: 1136.84\n",
      "The average price of beverage in \"napoli\"  is: 288.89\n"
     ]
    }
   ],
   "source": [
    "print('--------------The average prices of meal over suppliers--------------')\n",
    "print('The average price of meal in \"papa pizza\"       is: {}'.format(avg_pizza_papa_pizza_meal))\n",
    "print('The average price of meal in \"labeerint\"        is: {}'.format(avg_pizza_labeerint_meal))\n",
    "print('The average price of meal in \"americano pizza\"  is: {}'.format(avg_pizza_americano_pizza_meal))\n",
    "print('\\n')\n",
    "print('The average price of meal in \"limone\"       is: {}'.format(avg_italian_limone_meal))\n",
    "print('The average price of meal in \"vergano\"        is: {}'.format(avg_italian_vergnano_meal))\n",
    "print('The average price of meal in \"napoli\"  is: {}'.format(avg_italian_napoli_meal))\n",
    "\n",
    "print('\\n\\n\\n')\n",
    "print('--------The average prices of beverage over suppliers--------')\n",
    "print('The average price of beverage in \"papa pizza\"       is: {}'.format(avg_pizza_papa_pizza_beverage))\n",
    "print('The average price of beverage in \"labeerint\"        is: {}'.format(avg_pizza_labeerint_beverage))\n",
    "print('The average price of beverage in \"americano pizza\"  is: {}'.format(avg_pizza_americano_pizza_beverage))\n",
    "print('\\n')\n",
    "print('The average price of beverage in \"limone\"       is: {}'.format(avg_italian_limone_beverage))\n",
    "print('The average price of beverage in \"vergano\"        is: {}'.format(avg_italian_vergnano_beverage))\n",
    "print('The average price of beverage in \"napoli\"  is: {}'.format(avg_italian_napoli_beverage))"
   ]
  },
  {
   "cell_type": "code",
   "execution_count": 6,
   "metadata": {},
   "outputs": [
    {
     "data": {
      "application/vnd.plotly.v1+json": {
       "config": {
        "linkText": "Export to plot.ly",
        "plotlyServerURL": "https://plot.ly",
        "responsive": true,
        "showLink": false
       },
       "data": [
        {
         "orientation": "h",
         "type": "bar",
         "uid": "1f0ede83-96b8-46fd-b273-fe03b4899a61",
         "x": [
          2547.27,
          1708.62,
          2631.25
         ],
         "y": [
          "papa pizza",
          "labeerint",
          "americano pizza"
         ]
        }
       ],
       "layout": {
        "title": {
         "text": "Average price of meal in Pizza cuisine"
        },
        "xaxis": {
         "title": {
          "text": "Price in AMD"
         }
        },
        "yaxis": {
         "tickangle": 45,
         "title": {
          "text": "Suppliers"
         }
        }
       }
      },
      "text/html": [
       "<div>\n",
       "        \n",
       "        \n",
       "            <div id=\"48d2669e-a0d2-4bc0-94e8-66f0ca6441bb\" class=\"plotly-graph-div\" style=\"height:525px; width:100%;\"></div>\n",
       "            <script type=\"text/javascript\">\n",
       "                require([\"plotly\"], function(Plotly) {\n",
       "                    window.PLOTLYENV=window.PLOTLYENV || {};\n",
       "                    window.PLOTLYENV.BASE_URL='https://plot.ly';\n",
       "                    \n",
       "                if (document.getElementById(\"48d2669e-a0d2-4bc0-94e8-66f0ca6441bb\")) {\n",
       "                    Plotly.newPlot(\n",
       "                        '48d2669e-a0d2-4bc0-94e8-66f0ca6441bb',\n",
       "                        [{\"orientation\": \"h\", \"type\": \"bar\", \"uid\": \"c352351f-3058-4528-ac2a-9dcee7bf69a0\", \"x\": [2547.27, 1708.62, 2631.25], \"y\": [\"papa pizza\", \"labeerint\", \"americano pizza\"]}],\n",
       "                        {\"title\": {\"text\": \"Average price of meal in Pizza cuisine\"}, \"xaxis\": {\"title\": {\"text\": \"Price in AMD\"}}, \"yaxis\": {\"tickangle\": 45, \"title\": {\"text\": \"Suppliers\"}}},\n",
       "                        {\"showLink\": false, \"linkText\": \"Export to plot.ly\", \"plotlyServerURL\": \"https://plot.ly\", \"responsive\": true}\n",
       "                    ).then(function(){\n",
       "                            \n",
       "var gd = document.getElementById('48d2669e-a0d2-4bc0-94e8-66f0ca6441bb');\n",
       "var x = new MutationObserver(function (mutations, observer) {{\n",
       "        var display = window.getComputedStyle(gd).display;\n",
       "        if (!display || display === 'none') {{\n",
       "            console.log([gd, 'removed!']);\n",
       "            Plotly.purge(gd);\n",
       "            observer.disconnect();\n",
       "        }}\n",
       "}});\n",
       "\n",
       "// Listen for the removal of the full notebook cells\n",
       "var notebookContainer = gd.closest('#notebook-container');\n",
       "if (notebookContainer) {{\n",
       "    x.observe(notebookContainer, {childList: true});\n",
       "}}\n",
       "\n",
       "// Listen for the clearing of the current output cell\n",
       "var outputEl = gd.closest('.output');\n",
       "if (outputEl) {{\n",
       "    x.observe(outputEl, {childList: true});\n",
       "}}\n",
       "\n",
       "                        })\n",
       "                };\n",
       "                });\n",
       "            </script>\n",
       "        </div>"
      ]
     },
     "metadata": {},
     "output_type": "display_data"
    }
   ],
   "source": [
    "trace = go.Bar(x=[avg_pizza_papa_pizza_meal,\n",
    "                  avg_pizza_labeerint_meal,\n",
    "                  avg_pizza_americano_pizza_meal], y=['papa pizza', 'labeerint', 'americano pizza'], orientation=\"h\")\n",
    "\n",
    "data = [trace]\n",
    "layout = go.Layout(\n",
    "    title=go.layout.Title(\n",
    "        text='Average price of meal in Pizza cuisine'\n",
    "    ),\n",
    "    xaxis=go.layout.XAxis(\n",
    "        title=go.layout.xaxis.Title(\n",
    "            text='Price in AMD'\n",
    "        )\n",
    "    ),\n",
    "    yaxis=go.layout.YAxis(\n",
    "        title=go.layout.yaxis.Title(\n",
    "            text='Suppliers'\n",
    "        ),\n",
    "        tickangle=45\n",
    "    )\n",
    ")\n",
    "figure = dict(data=data,layout=layout)\n",
    "iplot(figure)"
   ]
  },
  {
   "cell_type": "code",
   "execution_count": 7,
   "metadata": {},
   "outputs": [
    {
     "data": {
      "application/vnd.plotly.v1+json": {
       "config": {
        "linkText": "Export to plot.ly",
        "plotlyServerURL": "https://plot.ly",
        "responsive": true,
        "showLink": false
       },
       "data": [
        {
         "orientation": "h",
         "type": "bar",
         "uid": "97845878-8c6e-40d6-8683-c82a28a93db7",
         "x": [
          400,
          657.5,
          250
         ],
         "y": [
          "papa pizza",
          "labeerint",
          "americano pizza"
         ]
        }
       ],
       "layout": {
        "title": {
         "text": "Average price of beverage in Pizza cuisine"
        },
        "xaxis": {
         "title": {
          "text": "Price in AMD"
         }
        },
        "yaxis": {
         "tickangle": 45,
         "title": {
          "text": "Suppliers"
         }
        }
       }
      },
      "text/html": [
       "<div>\n",
       "        \n",
       "        \n",
       "            <div id=\"7ce28883-9140-4870-9aec-5a55b1b088d5\" class=\"plotly-graph-div\" style=\"height:525px; width:100%;\"></div>\n",
       "            <script type=\"text/javascript\">\n",
       "                require([\"plotly\"], function(Plotly) {\n",
       "                    window.PLOTLYENV=window.PLOTLYENV || {};\n",
       "                    window.PLOTLYENV.BASE_URL='https://plot.ly';\n",
       "                    \n",
       "                if (document.getElementById(\"7ce28883-9140-4870-9aec-5a55b1b088d5\")) {\n",
       "                    Plotly.newPlot(\n",
       "                        '7ce28883-9140-4870-9aec-5a55b1b088d5',\n",
       "                        [{\"orientation\": \"h\", \"type\": \"bar\", \"uid\": \"d1a30638-5486-4e57-a82e-2f13540481bd\", \"x\": [400.0, 657.5, 250.0], \"y\": [\"papa pizza\", \"labeerint\", \"americano pizza\"]}],\n",
       "                        {\"title\": {\"text\": \"Average price of beverage in Pizza cuisine\"}, \"xaxis\": {\"title\": {\"text\": \"Price in AMD\"}}, \"yaxis\": {\"tickangle\": 45, \"title\": {\"text\": \"Suppliers\"}}},\n",
       "                        {\"showLink\": false, \"linkText\": \"Export to plot.ly\", \"plotlyServerURL\": \"https://plot.ly\", \"responsive\": true}\n",
       "                    ).then(function(){\n",
       "                            \n",
       "var gd = document.getElementById('7ce28883-9140-4870-9aec-5a55b1b088d5');\n",
       "var x = new MutationObserver(function (mutations, observer) {{\n",
       "        var display = window.getComputedStyle(gd).display;\n",
       "        if (!display || display === 'none') {{\n",
       "            console.log([gd, 'removed!']);\n",
       "            Plotly.purge(gd);\n",
       "            observer.disconnect();\n",
       "        }}\n",
       "}});\n",
       "\n",
       "// Listen for the removal of the full notebook cells\n",
       "var notebookContainer = gd.closest('#notebook-container');\n",
       "if (notebookContainer) {{\n",
       "    x.observe(notebookContainer, {childList: true});\n",
       "}}\n",
       "\n",
       "// Listen for the clearing of the current output cell\n",
       "var outputEl = gd.closest('.output');\n",
       "if (outputEl) {{\n",
       "    x.observe(outputEl, {childList: true});\n",
       "}}\n",
       "\n",
       "                        })\n",
       "                };\n",
       "                });\n",
       "            </script>\n",
       "        </div>"
      ]
     },
     "metadata": {},
     "output_type": "display_data"
    }
   ],
   "source": [
    "trace = go.Bar(x=[avg_pizza_papa_pizza_beverage,\n",
    "                  avg_pizza_labeerint_beverage,\n",
    "                  avg_pizza_americano_pizza_beverage], y=['papa pizza', 'labeerint', 'americano pizza'], orientation=\"h\")\n",
    "\n",
    "data = [trace]\n",
    "layout = go.Layout(\n",
    "    title=go.layout.Title(\n",
    "        text='Average price of beverage in Pizza cuisine'\n",
    "    ),\n",
    "    xaxis=go.layout.XAxis(\n",
    "        title=go.layout.xaxis.Title(\n",
    "            text='Price in AMD'\n",
    "        )\n",
    "    ),\n",
    "    yaxis=go.layout.YAxis(\n",
    "        title=go.layout.yaxis.Title(\n",
    "            text='Suppliers'\n",
    "        ),\n",
    "        tickangle=45\n",
    "    )\n",
    ")\n",
    "figure = dict(data=data,layout=layout)\n",
    "iplot(figure)"
   ]
  },
  {
   "cell_type": "code",
   "execution_count": 8,
   "metadata": {},
   "outputs": [
    {
     "data": {
      "application/vnd.plotly.v1+json": {
       "config": {
        "linkText": "Export to plot.ly",
        "plotlyServerURL": "https://plot.ly",
        "responsive": true,
        "showLink": false
       },
       "data": [
        {
         "orientation": "h",
         "type": "bar",
         "uid": "6bd88ad6-883f-4f3a-845f-5cd5ab331a21",
         "x": [
          3618.18,
          1928.57,
          1598.75
         ],
         "y": [
          "limone",
          "vergano",
          "napoli"
         ]
        }
       ],
       "layout": {
        "title": {
         "text": "Average price of meal in Italian cuisine"
        },
        "xaxis": {
         "title": {
          "text": "Price in AMD"
         }
        },
        "yaxis": {
         "tickangle": 45,
         "title": {
          "text": "Suppliers"
         }
        }
       }
      },
      "text/html": [
       "<div>\n",
       "        \n",
       "        \n",
       "            <div id=\"3bf4d871-c909-4182-a956-5345e49d68f7\" class=\"plotly-graph-div\" style=\"height:525px; width:100%;\"></div>\n",
       "            <script type=\"text/javascript\">\n",
       "                require([\"plotly\"], function(Plotly) {\n",
       "                    window.PLOTLYENV=window.PLOTLYENV || {};\n",
       "                    window.PLOTLYENV.BASE_URL='https://plot.ly';\n",
       "                    \n",
       "                if (document.getElementById(\"3bf4d871-c909-4182-a956-5345e49d68f7\")) {\n",
       "                    Plotly.newPlot(\n",
       "                        '3bf4d871-c909-4182-a956-5345e49d68f7',\n",
       "                        [{\"orientation\": \"h\", \"type\": \"bar\", \"uid\": \"58b33c4a-239f-4d59-a151-5840687b38d1\", \"x\": [3618.18, 1928.57, 1598.75], \"y\": [\"limone\", \"vergano\", \"napoli\"]}],\n",
       "                        {\"title\": {\"text\": \"Average price of meal in Italian cuisine\"}, \"xaxis\": {\"title\": {\"text\": \"Price in AMD\"}}, \"yaxis\": {\"tickangle\": 45, \"title\": {\"text\": \"Suppliers\"}}},\n",
       "                        {\"showLink\": false, \"linkText\": \"Export to plot.ly\", \"plotlyServerURL\": \"https://plot.ly\", \"responsive\": true}\n",
       "                    ).then(function(){\n",
       "                            \n",
       "var gd = document.getElementById('3bf4d871-c909-4182-a956-5345e49d68f7');\n",
       "var x = new MutationObserver(function (mutations, observer) {{\n",
       "        var display = window.getComputedStyle(gd).display;\n",
       "        if (!display || display === 'none') {{\n",
       "            console.log([gd, 'removed!']);\n",
       "            Plotly.purge(gd);\n",
       "            observer.disconnect();\n",
       "        }}\n",
       "}});\n",
       "\n",
       "// Listen for the removal of the full notebook cells\n",
       "var notebookContainer = gd.closest('#notebook-container');\n",
       "if (notebookContainer) {{\n",
       "    x.observe(notebookContainer, {childList: true});\n",
       "}}\n",
       "\n",
       "// Listen for the clearing of the current output cell\n",
       "var outputEl = gd.closest('.output');\n",
       "if (outputEl) {{\n",
       "    x.observe(outputEl, {childList: true});\n",
       "}}\n",
       "\n",
       "                        })\n",
       "                };\n",
       "                });\n",
       "            </script>\n",
       "        </div>"
      ]
     },
     "metadata": {},
     "output_type": "display_data"
    }
   ],
   "source": [
    "trace = go.Bar(x=[avg_italian_limone_meal,\n",
    "                  avg_italian_vergnano_meal,\n",
    "                  avg_italian_napoli_meal], y=['limone', 'vergano', 'napoli'], orientation=\"h\")\n",
    "\n",
    "data = [trace]\n",
    "layout = go.Layout(\n",
    "    title=go.layout.Title(\n",
    "        text='Average price of meal in Italian cuisine'\n",
    "    ),\n",
    "    xaxis=go.layout.XAxis(\n",
    "        title=go.layout.xaxis.Title(\n",
    "            text='Price in AMD'\n",
    "        )\n",
    "    ),\n",
    "    yaxis=go.layout.YAxis(\n",
    "        title=go.layout.yaxis.Title(\n",
    "            text='Suppliers'\n",
    "        ),\n",
    "        tickangle=45\n",
    "    )\n",
    ")\n",
    "figure = dict(data=data,layout=layout)\n",
    "iplot(figure)"
   ]
  },
  {
   "cell_type": "code",
   "execution_count": 9,
   "metadata": {},
   "outputs": [
    {
     "data": {
      "application/vnd.plotly.v1+json": {
       "config": {
        "linkText": "Export to plot.ly",
        "plotlyServerURL": "https://plot.ly",
        "responsive": true,
        "showLink": false
       },
       "data": [
        {
         "orientation": "h",
         "type": "bar",
         "uid": "50967c24-77b4-4f19-9893-7f9091bbfbea",
         "x": [
          600,
          1136.84,
          288.89
         ],
         "y": [
          "limone",
          "vergano",
          "napoli"
         ]
        }
       ],
       "layout": {
        "title": {
         "text": "Average price of beverage in Italian cuisine"
        },
        "xaxis": {
         "title": {
          "text": "Price in AMD"
         }
        },
        "yaxis": {
         "tickangle": 45,
         "title": {
          "text": "Suppliers"
         }
        }
       }
      },
      "text/html": [
       "<div>\n",
       "        \n",
       "        \n",
       "            <div id=\"f33d53ce-81aa-498c-a501-b005877ffb75\" class=\"plotly-graph-div\" style=\"height:525px; width:100%;\"></div>\n",
       "            <script type=\"text/javascript\">\n",
       "                require([\"plotly\"], function(Plotly) {\n",
       "                    window.PLOTLYENV=window.PLOTLYENV || {};\n",
       "                    window.PLOTLYENV.BASE_URL='https://plot.ly';\n",
       "                    \n",
       "                if (document.getElementById(\"f33d53ce-81aa-498c-a501-b005877ffb75\")) {\n",
       "                    Plotly.newPlot(\n",
       "                        'f33d53ce-81aa-498c-a501-b005877ffb75',\n",
       "                        [{\"orientation\": \"h\", \"type\": \"bar\", \"uid\": \"ac4a1ddc-9791-409c-9002-dc9074829af4\", \"x\": [600.0, 1136.84, 288.89], \"y\": [\"limone\", \"vergano\", \"napoli\"]}],\n",
       "                        {\"title\": {\"text\": \"Average price of beverage in Italian cuisine\"}, \"xaxis\": {\"title\": {\"text\": \"Price in AMD\"}}, \"yaxis\": {\"tickangle\": 45, \"title\": {\"text\": \"Suppliers\"}}},\n",
       "                        {\"showLink\": false, \"linkText\": \"Export to plot.ly\", \"plotlyServerURL\": \"https://plot.ly\", \"responsive\": true}\n",
       "                    ).then(function(){\n",
       "                            \n",
       "var gd = document.getElementById('f33d53ce-81aa-498c-a501-b005877ffb75');\n",
       "var x = new MutationObserver(function (mutations, observer) {{\n",
       "        var display = window.getComputedStyle(gd).display;\n",
       "        if (!display || display === 'none') {{\n",
       "            console.log([gd, 'removed!']);\n",
       "            Plotly.purge(gd);\n",
       "            observer.disconnect();\n",
       "        }}\n",
       "}});\n",
       "\n",
       "// Listen for the removal of the full notebook cells\n",
       "var notebookContainer = gd.closest('#notebook-container');\n",
       "if (notebookContainer) {{\n",
       "    x.observe(notebookContainer, {childList: true});\n",
       "}}\n",
       "\n",
       "// Listen for the clearing of the current output cell\n",
       "var outputEl = gd.closest('.output');\n",
       "if (outputEl) {{\n",
       "    x.observe(outputEl, {childList: true});\n",
       "}}\n",
       "\n",
       "                        })\n",
       "                };\n",
       "                });\n",
       "            </script>\n",
       "        </div>"
      ]
     },
     "metadata": {},
     "output_type": "display_data"
    }
   ],
   "source": [
    "trace = go.Bar(x=[avg_italian_limone_beverage,\n",
    "                  avg_italian_vergnano_beverage,\n",
    "                  avg_italian_napoli_beverage], y=['limone', 'vergano', 'napoli'], orientation=\"h\")\n",
    "\n",
    "data = [trace]\n",
    "layout = go.Layout(\n",
    "    title=go.layout.Title(\n",
    "        text='Average price of beverage in Italian cuisine'\n",
    "    ),\n",
    "    xaxis=go.layout.XAxis(\n",
    "        title=go.layout.xaxis.Title(\n",
    "            text='Price in AMD'\n",
    "        )\n",
    "    ),\n",
    "    yaxis=go.layout.YAxis(\n",
    "        title=go.layout.yaxis.Title(\n",
    "            text='Suppliers'\n",
    "        ),\n",
    "        tickangle=45\n",
    "    )\n",
    ")\n",
    "figure = dict(data=data,layout=layout)\n",
    "iplot(figure)"
   ]
  },
  {
   "cell_type": "code",
   "execution_count": 10,
   "metadata": {},
   "outputs": [
    {
     "data": {
      "application/vnd.plotly.v1+json": {
       "config": {
        "linkText": "Export to plot.ly",
        "plotlyServerURL": "https://plot.ly",
        "responsive": true,
        "showLink": false
       },
       "data": [
        {
         "name": "Pizza",
         "orientation": "h",
         "type": "bar",
         "uid": "9c6fc457-8bbd-47b1-896e-84b8ae77643c",
         "x": [
          2547.27,
          1708.62,
          2631.25
         ],
         "y": [
          "papa pizza",
          "labeerint",
          "americano pizza"
         ]
        },
        {
         "name": "Italian",
         "orientation": "h",
         "type": "bar",
         "uid": "704b8ffb-d842-416e-8caf-bbd965d96f7b",
         "x": [
          3618.18,
          1928.57,
          1598.75
         ],
         "y": [
          "limone",
          "vergano",
          "napoli"
         ]
        }
       ],
       "layout": {
        "title": {
         "text": "Average price of meal"
        },
        "xaxis": {
         "title": {
          "text": "Price in AMD"
         }
        },
        "yaxis": {
         "tickangle": 45,
         "title": {
          "text": "Suppliers"
         }
        }
       }
      },
      "text/html": [
       "<div>\n",
       "        \n",
       "        \n",
       "            <div id=\"65dc3e9b-0ee6-4cd2-94bf-ca03297f98ff\" class=\"plotly-graph-div\" style=\"height:525px; width:100%;\"></div>\n",
       "            <script type=\"text/javascript\">\n",
       "                require([\"plotly\"], function(Plotly) {\n",
       "                    window.PLOTLYENV=window.PLOTLYENV || {};\n",
       "                    window.PLOTLYENV.BASE_URL='https://plot.ly';\n",
       "                    \n",
       "                if (document.getElementById(\"65dc3e9b-0ee6-4cd2-94bf-ca03297f98ff\")) {\n",
       "                    Plotly.newPlot(\n",
       "                        '65dc3e9b-0ee6-4cd2-94bf-ca03297f98ff',\n",
       "                        [{\"name\": \"Pizza\", \"orientation\": \"h\", \"type\": \"bar\", \"uid\": \"8b3ab49a-0f6f-4c8a-bdf6-25b6d4ce79bf\", \"x\": [2547.27, 1708.62, 2631.25], \"y\": [\"papa pizza\", \"labeerint\", \"americano pizza\"]}, {\"name\": \"Italian\", \"orientation\": \"h\", \"type\": \"bar\", \"uid\": \"97d1744c-2213-49e0-bb72-228a0f2e2785\", \"x\": [3618.18, 1928.57, 1598.75], \"y\": [\"limone\", \"vergano\", \"napoli\"]}],\n",
       "                        {\"title\": {\"text\": \"Average price of meal\"}, \"xaxis\": {\"title\": {\"text\": \"Price in AMD\"}}, \"yaxis\": {\"tickangle\": 45, \"title\": {\"text\": \"Suppliers\"}}},\n",
       "                        {\"showLink\": false, \"linkText\": \"Export to plot.ly\", \"plotlyServerURL\": \"https://plot.ly\", \"responsive\": true}\n",
       "                    ).then(function(){\n",
       "                            \n",
       "var gd = document.getElementById('65dc3e9b-0ee6-4cd2-94bf-ca03297f98ff');\n",
       "var x = new MutationObserver(function (mutations, observer) {{\n",
       "        var display = window.getComputedStyle(gd).display;\n",
       "        if (!display || display === 'none') {{\n",
       "            console.log([gd, 'removed!']);\n",
       "            Plotly.purge(gd);\n",
       "            observer.disconnect();\n",
       "        }}\n",
       "}});\n",
       "\n",
       "// Listen for the removal of the full notebook cells\n",
       "var notebookContainer = gd.closest('#notebook-container');\n",
       "if (notebookContainer) {{\n",
       "    x.observe(notebookContainer, {childList: true});\n",
       "}}\n",
       "\n",
       "// Listen for the clearing of the current output cell\n",
       "var outputEl = gd.closest('.output');\n",
       "if (outputEl) {{\n",
       "    x.observe(outputEl, {childList: true});\n",
       "}}\n",
       "\n",
       "                        })\n",
       "                };\n",
       "                });\n",
       "            </script>\n",
       "        </div>"
      ]
     },
     "metadata": {},
     "output_type": "display_data"
    }
   ],
   "source": [
    "trace1 = go.Bar(x=[avg_pizza_papa_pizza_meal,\n",
    "                  avg_pizza_labeerint_meal,\n",
    "                  avg_pizza_americano_pizza_meal], y=['papa pizza', 'labeerint', 'americano pizza'], orientation=\"h\", name = 'Pizza')\n",
    "trace2 = go.Bar(x=[avg_italian_limone_meal,\n",
    "                  avg_italian_vergnano_meal,\n",
    "                  avg_italian_napoli_meal], y=['limone', 'vergano', 'napoli'], orientation=\"h\", name = 'Italian')\n",
    "\n",
    "data = [trace1, trace2]\n",
    "layout = go.Layout(\n",
    "    title=go.layout.Title(\n",
    "        text='Average price of meal'\n",
    "    ),\n",
    "    xaxis=go.layout.XAxis(\n",
    "        title=go.layout.xaxis.Title(\n",
    "            text='Price in AMD'\n",
    "        )\n",
    "    ),\n",
    "    yaxis=go.layout.YAxis(\n",
    "        title=go.layout.yaxis.Title(\n",
    "            text='Suppliers'\n",
    "        ),\n",
    "        tickangle=45\n",
    "    )\n",
    ")\n",
    "figure = dict(data=data,layout=layout)\n",
    "iplot(figure)"
   ]
  },
  {
   "cell_type": "code",
   "execution_count": 11,
   "metadata": {},
   "outputs": [
    {
     "data": {
      "application/vnd.plotly.v1+json": {
       "config": {
        "linkText": "Export to plot.ly",
        "plotlyServerURL": "https://plot.ly",
        "responsive": true,
        "showLink": false
       },
       "data": [
        {
         "name": "Pizza",
         "orientation": "h",
         "type": "bar",
         "uid": "c6219582-30a2-4663-a5ba-0421fa2419b7",
         "x": [
          400,
          657.5,
          250
         ],
         "y": [
          "papa pizza",
          "labeerint",
          "americano pizza"
         ]
        },
        {
         "name": "Italian",
         "orientation": "h",
         "type": "bar",
         "uid": "47cd7150-5f4b-4eed-9371-31aab17e59c1",
         "x": [
          600,
          1136.84,
          288.89
         ],
         "y": [
          "limone",
          "vergano",
          "napoli"
         ]
        }
       ],
       "layout": {
        "title": {
         "text": "Average price of beverage"
        },
        "xaxis": {
         "title": {
          "text": "Price in AMD"
         }
        },
        "yaxis": {
         "tickangle": 45,
         "title": {
          "text": "Suppliers"
         }
        }
       }
      },
      "text/html": [
       "<div>\n",
       "        \n",
       "        \n",
       "            <div id=\"59bf086b-546b-4878-8d9f-180765ed6367\" class=\"plotly-graph-div\" style=\"height:525px; width:100%;\"></div>\n",
       "            <script type=\"text/javascript\">\n",
       "                require([\"plotly\"], function(Plotly) {\n",
       "                    window.PLOTLYENV=window.PLOTLYENV || {};\n",
       "                    window.PLOTLYENV.BASE_URL='https://plot.ly';\n",
       "                    \n",
       "                if (document.getElementById(\"59bf086b-546b-4878-8d9f-180765ed6367\")) {\n",
       "                    Plotly.newPlot(\n",
       "                        '59bf086b-546b-4878-8d9f-180765ed6367',\n",
       "                        [{\"name\": \"Pizza\", \"orientation\": \"h\", \"type\": \"bar\", \"uid\": \"a26f3b1f-6eaf-420c-a9d1-ddc4a39273df\", \"x\": [400.0, 657.5, 250.0], \"y\": [\"papa pizza\", \"labeerint\", \"americano pizza\"]}, {\"name\": \"Italian\", \"orientation\": \"h\", \"type\": \"bar\", \"uid\": \"d13cac78-1005-4069-93ff-eeb136bc0d4c\", \"x\": [600.0, 1136.84, 288.89], \"y\": [\"limone\", \"vergano\", \"napoli\"]}],\n",
       "                        {\"title\": {\"text\": \"Average price of beverage\"}, \"xaxis\": {\"title\": {\"text\": \"Price in AMD\"}}, \"yaxis\": {\"tickangle\": 45, \"title\": {\"text\": \"Suppliers\"}}},\n",
       "                        {\"showLink\": false, \"linkText\": \"Export to plot.ly\", \"plotlyServerURL\": \"https://plot.ly\", \"responsive\": true}\n",
       "                    ).then(function(){\n",
       "                            \n",
       "var gd = document.getElementById('59bf086b-546b-4878-8d9f-180765ed6367');\n",
       "var x = new MutationObserver(function (mutations, observer) {{\n",
       "        var display = window.getComputedStyle(gd).display;\n",
       "        if (!display || display === 'none') {{\n",
       "            console.log([gd, 'removed!']);\n",
       "            Plotly.purge(gd);\n",
       "            observer.disconnect();\n",
       "        }}\n",
       "}});\n",
       "\n",
       "// Listen for the removal of the full notebook cells\n",
       "var notebookContainer = gd.closest('#notebook-container');\n",
       "if (notebookContainer) {{\n",
       "    x.observe(notebookContainer, {childList: true});\n",
       "}}\n",
       "\n",
       "// Listen for the clearing of the current output cell\n",
       "var outputEl = gd.closest('.output');\n",
       "if (outputEl) {{\n",
       "    x.observe(outputEl, {childList: true});\n",
       "}}\n",
       "\n",
       "                        })\n",
       "                };\n",
       "                });\n",
       "            </script>\n",
       "        </div>"
      ]
     },
     "metadata": {},
     "output_type": "display_data"
    }
   ],
   "source": [
    "trace1 = go.Bar(x=[avg_pizza_papa_pizza_beverage,\n",
    "                  avg_pizza_labeerint_beverage,\n",
    "                  avg_pizza_americano_pizza_beverage], y=['papa pizza', 'labeerint', 'americano pizza'], orientation=\"h\", name = 'Pizza')\n",
    "trace2 = go.Bar(x=[avg_italian_limone_beverage,\n",
    "                  avg_italian_vergnano_beverage,\n",
    "                  avg_italian_napoli_beverage], y=['limone', 'vergano', 'napoli'], orientation=\"h\", name = 'Italian')\n",
    "\n",
    "data = [trace1, trace2]\n",
    "layout = go.Layout(\n",
    "    title=go.layout.Title(\n",
    "        text='Average price of beverage'\n",
    "    ),\n",
    "    xaxis=go.layout.XAxis(\n",
    "        title=go.layout.xaxis.Title(\n",
    "            text='Price in AMD'\n",
    "        )\n",
    "    ),\n",
    "    yaxis=go.layout.YAxis(\n",
    "        title=go.layout.yaxis.Title(\n",
    "            text='Suppliers'\n",
    "        ),\n",
    "        tickangle=45\n",
    "    )\n",
    ")\n",
    "figure = dict(data=data,layout=layout)\n",
    "iplot(figure)"
   ]
  },
  {
   "cell_type": "code",
   "execution_count": 12,
   "metadata": {
    "scrolled": false
   },
   "outputs": [
    {
     "data": {
      "image/png": "[encoded data removed]",
      "text/plain": [
       "<Figure size 1152x720 with 3 Axes>"
      ]
     },
     "metadata": {
      "needs_background": "light"
     },
     "output_type": "display_data"
    }
   ],
   "source": [
    "fig, axes = plt.subplots(nrows=1, ncols=3, figsize=(16, 10));\n",
    "fig.suptitle('Beverage price distribution for Pizza cuisine')\n",
    "\n",
    "ax11 = axes[0]\n",
    "ax12 = axes[1]\n",
    "ax13 = axes[2]\n",
    "\n",
    "ax11.hist(pizza_papa_pizza_beverage, density = True, color='red', label='papa pizza')\n",
    "ax12.hist(pizza_labeerint_beverage, density = True, color='green', label='labeerint')\n",
    "ax13.hist(pizza_americano_pizza_beverage, density = True, color='blue', label='americano')\n",
    "\n",
    "ax11.set_xlabel('Price in AMD')\n",
    "ax12.set_xlabel('Price in AMD')\n",
    "ax13.set_xlabel('Price in AMD')\n",
    "ax11.set_ylabel('Frequency')\n",
    "\n",
    "ax11.legend()\n",
    "ax12.legend()\n",
    "ax13.legend()\n",
    "\n",
    "plt.show()"
   ]
  },
  {
   "cell_type": "code",
   "execution_count": 13,
   "metadata": {},
   "outputs": [
    {
     "data": {
      "image/png": "[encoded data removed]",
      "text/plain": [
       "<Figure size 1152x720 with 3 Axes>"
      ]
     },
     "metadata": {
      "needs_background": "light"
     },
     "output_type": "display_data"
    }
   ],
   "source": [
    "fig, axes = plt.subplots(nrows=1, ncols=3, figsize=(16, 10));\n",
    "fig.suptitle('Meal price distribution for Pizza cuisine')\n",
    "\n",
    "ax11 = axes[0]\n",
    "ax12 = axes[1]\n",
    "ax13 = axes[2]\n",
    "\n",
    "ax11.hist(pizza_papa_pizza_meal, density = True, color='red', label='papa pizza')\n",
    "ax12.hist(pizza_labeerint_meal, density = True, color='green', label='labeerint')\n",
    "ax13.hist(pizza_americano_pizza_meal, density = True, color='blue', label='americano')\n",
    "\n",
    "ax11.set_xlabel('Price in AMD')\n",
    "ax12.set_xlabel('Price in AMD')\n",
    "ax13.set_xlabel('Price in AMD')\n",
    "ax11.set_ylabel('Frequency')\n",
    "\n",
    "ax11.legend()\n",
    "ax12.legend()\n",
    "ax13.legend()\n",
    "\n",
    "plt.show()"
   ]
  },
  {
   "cell_type": "code",
   "execution_count": 14,
   "metadata": {},
   "outputs": [
    {
     "data": {
      "image/png": "[encoded data removed]",
      "text/plain": [
       "<Figure size 1152x720 with 3 Axes>"
      ]
     },
     "metadata": {
      "needs_background": "light"
     },
     "output_type": "display_data"
    }
   ],
   "source": [
    "fig, axes = plt.subplots(nrows=1, ncols=3, figsize=(16, 10));\n",
    "fig.suptitle('Beverage price distribution for Italian cuisine')\n",
    "\n",
    "ax11 = axes[0]\n",
    "ax12 = axes[1]\n",
    "ax13 = axes[2]\n",
    "\n",
    "ax11.hist(italian_limone_beverage, density = True, color='red', label='limone')\n",
    "ax12.hist(italian_napoli_beverage, density = True, color='green', label='napoli')\n",
    "ax13.hist(italian_vergnano_beverage, density = True, color='blue', label='vergnano')\n",
    "\n",
    "ax11.set_xlabel('Price in AMD')\n",
    "ax12.set_xlabel('Price in AMD')\n",
    "ax13.set_xlabel('Price in AMD')\n",
    "ax11.set_ylabel('Frequency')\n",
    "\n",
    "ax11.legend()\n",
    "ax12.legend()\n",
    "ax13.legend()\n",
    "\n",
    "plt.show()"
   ]
  },
  {
   "cell_type": "code",
   "execution_count": 15,
   "metadata": {},
   "outputs": [
    {
     "data": {
      "image/png": "[encoded data removed]",
      "text/plain": [
       "<Figure size 1152x720 with 3 Axes>"
      ]
     },
     "metadata": {
      "needs_background": "light"
     },
     "output_type": "display_data"
    }
   ],
   "source": [
    "fig, axes = plt.subplots(nrows=1, ncols=3, figsize=(16, 10));\n",
    "fig.suptitle('Meal price distribution for Italian cuisine')\n",
    "\n",
    "ax11 = axes[0]\n",
    "ax12 = axes[1]\n",
    "ax13 = axes[2]\n",
    "\n",
    "ax11.hist(italian_limone_meal, density = True, color='red', label='limone')\n",
    "ax12.hist(italian_napoli_meal, density = True, color='green', label='napoli')\n",
    "ax13.hist(italian_vergnano_meal, density = True, color='blue', label='vergnano')\n",
    "\n",
    "ax11.set_xlabel('Price in AMD')\n",
    "ax12.set_xlabel('Price in AMD')\n",
    "ax13.set_xlabel('Price in AMD')\n",
    "ax11.set_ylabel('Frequency')\n",
    "\n",
    "ax11.legend()\n",
    "ax12.legend()\n",
    "ax13.legend()\n",
    "\n",
    "plt.show()"
   ]
  },
  {
   "cell_type": "code",
   "execution_count": 16,
   "metadata": {},
   "outputs": [
    {
     "data": {
      "image/png": "[encoded data removed]",
      "text/plain": [
       "<Figure size 1152x720 with 6 Axes>"
      ]
     },
     "metadata": {
      "needs_background": "light"
     },
     "output_type": "display_data"
    }
   ],
   "source": [
    "fig, axes = plt.subplots(nrows=2, ncols=3, figsize=(16, 10));\n",
    "fig.suptitle('Beverage price distribution')\n",
    "\n",
    "ax11 = axes[0][0]\n",
    "ax12 = axes[0][1]\n",
    "ax13 = axes[0][2]\n",
    "ax21 = axes[1][0]\n",
    "ax22 = axes[1][1]\n",
    "ax23 = axes[1][2]\n",
    "\n",
    "ax11.hist(pizza_papa_pizza_beverage, density = True, color='red', label='papa pizza')\n",
    "ax12.hist(pizza_labeerint_beverage, density = True, color='green', label='labeerint')\n",
    "ax13.hist(pizza_americano_pizza_beverage, density = True, color='blue', label='americano')\n",
    "ax21.hist(italian_limone_beverage, density = True, color='yellow', label='limone')\n",
    "ax22.hist(italian_napoli_beverage, density = True, color='black', label='napoli')\n",
    "ax23.hist(italian_vergnano_beverage, density = True, color='brown', label='vergnano')\n",
    "\n",
    "# ax11.set_xlabel('Price in AMD')\n",
    "# ax12.set_xlabel('Price in AMD')\n",
    "# ax13.set_xlabel('Price in AMD')\n",
    "ax11.set_ylabel('Frequency')\n",
    "\n",
    "ax21.set_xlabel('Price in AMD')\n",
    "ax22.set_xlabel('Price in AMD')\n",
    "ax23.set_xlabel('Price in AMD')\n",
    "ax21.set_ylabel('Frequency')\n",
    "\n",
    "ax11.legend()\n",
    "ax12.legend()\n",
    "ax13.legend()\n",
    "ax21.legend()\n",
    "ax22.legend()\n",
    "ax23.legend()\n",
    "\n",
    "\n",
    "plt.show()"
   ]
  },
  {
   "cell_type": "code",
   "execution_count": 17,
   "metadata": {},
   "outputs": [
    {
     "data": {
      "image/png": "[encoded data removed]",
      "text/plain": [
       "<Figure size 1152x720 with 6 Axes>"
      ]
     },
     "metadata": {
      "needs_background": "light"
     },
     "output_type": "display_data"
    }
   ],
   "source": [
    "fig, axes = plt.subplots(nrows=2, ncols=3, figsize=(16, 10));\n",
    "fig.suptitle('Meal price distribution')\n",
    "\n",
    "ax11 = axes[0][0]\n",
    "ax12 = axes[0][1]\n",
    "ax13 = axes[0][2]\n",
    "ax21 = axes[1][0]\n",
    "ax22 = axes[1][1]\n",
    "ax23 = axes[1][2]\n",
    "\n",
    "ax11.hist(pizza_papa_pizza_meal, density = True, color='red', label='papa pizza')\n",
    "ax12.hist(pizza_labeerint_meal, density = True, color='green', label='labeerint')\n",
    "ax13.hist(pizza_americano_pizza_meal, density = True, color='blue', label='americano')\n",
    "ax21.hist(italian_limone_meal, density = True, color='yellow', label='limone')\n",
    "ax22.hist(italian_napoli_meal, density = True, color='black', label='napoli')\n",
    "ax23.hist(italian_vergnano_meal, density = True, color='brown', label='vergnano')\n",
    "\n",
    "# ax11.set_xlabel('Price in AMD')\n",
    "# ax12.set_xlabel('Price in AMD')\n",
    "# ax13.set_xlabel('Price in AMD')\n",
    "ax11.set_ylabel('Frequency')\n",
    "\n",
    "ax21.set_xlabel('Price in AMD')\n",
    "ax22.set_xlabel('Price in AMD')\n",
    "ax23.set_xlabel('Price in AMD')\n",
    "ax21.set_ylabel('Frequency')\n",
    "\n",
    "ax11.legend()\n",
    "ax12.legend()\n",
    "ax13.legend()\n",
    "ax21.legend()\n",
    "ax22.legend()\n",
    "ax23.legend()\n",
    "\n",
    "\n",
    "plt.show()"
   ]
  },
  {
   "cell_type": "markdown",
   "metadata": {},
   "source": [
    " # <div align=\"center\">Conclusion</div>\n",
    "---------------------------------------------------------------------\n",
    "\n",
    "According to above plotted graphs we can say that the most **expensive** supplier for beverage is \"Vergano\" and for meal is \"Lemone\". The **cheapest** supplier for beverage is \"americano pizza\" and for meal is \"napoli\". "
   ]
  }
 ],
 "metadata": {
  "kernelspec": {
   "display_name": "Python 3",
   "language": "python",
   "name": "python3"
  },
  "language_info": {
   "codemirror_mode": {
    "name": "ipython",
    "version": 3
   },
   "file_extension": ".py",
   "mimetype": "text/x-python",
   "name": "python",
   "nbconvert_exporter": "python",
   "pygments_lexer": "ipython3",
   "version": "3.7.3"
  }
 },
 "nbformat": 4,
 "nbformat_minor": 2
}
