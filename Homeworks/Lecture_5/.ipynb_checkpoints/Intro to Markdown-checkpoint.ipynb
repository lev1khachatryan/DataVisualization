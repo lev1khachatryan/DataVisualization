{
 "cells": [
  {
   "cell_type": "markdown",
   "metadata": {},
   "source": [
    "# <a id = \"top\">Introduction to Markdown</a>"
   ]
  },
  {
   "cell_type": "markdown",
   "metadata": {},
   "source": [
    "## Table of contents\n",
    "\n",
    "1. [Headers](#headers)\n",
    "2. [Italic and bold Text](#ibtext)\n",
    "3. [Links](#links)\n",
    "4. [Images](#img)\n",
    "5. [Block quote](#bquote)\n",
    "6. [Lists](#lists)\n",
    "7. [New Lines](#nlines)\n",
    "8. [Codes](#codes)"
   ]
  },
  {
   "cell_type": "markdown",
   "metadata": {},
   "source": [
    "### <a id = \"headers\"> Headers</a>\n",
    "To create a header just use (`#`) in front of the text.\n",
    "\n",
    "There are 6 sizes of headers. The biggest one uses one (`#`) and the smallesty one uses six (`#`) like this:\n",
    "\n",
    "# Header 1 (`#`)\n",
    "## Header 2 (`##`)\n",
    "### Header 3 (`###`)\n",
    "#### Header 4 (`####`)\n",
    "##### Header 5 (`#####`)\n",
    "###### Header 6 (`######`)"
   ]
  },
  {
   "cell_type": "markdown",
   "metadata": {},
   "source": [
    "### <a id = \"ibtext\"> Italic and Bold text</a>\n",
    "\n",
    "To make a text **bold** surround the text with (`**`).\n",
    "\n",
    "To make a text _italic_ surround the text with (`_`)."
   ]
  },
  {
   "cell_type": "markdown",
   "metadata": {},
   "source": [
    "### <a id = \"links\"> Links</a>\n",
    "\n",
    "There are _2 ways_ to create links in Markdown.\n",
    "\n",
    "- The first one is called **inline link**, and is used to link to sources outside of the document. Use (`[ ]`) to wrap the link text and (`( )`) to wrap the link itself. For example: [The link to google](www.google.com). Written as `[The link to google](www.google.com)`\n",
    "\n",
    "\n",
    "- The second one is called **reference link**, and is used to reference some part of the document. There are **two** of the (`[ ]`) used in reference links. The first (`[ ]`) is for link text, the second (`[ ]`) is for _tag_ or _id_. And then at the bottom reference the _id_ or _tag_ to the url like this: (`[ ]: [ ]`), where the first one is the _id_ and the second one is for the url. For example: [Reference link][1].\n",
    "\n",
    "    Or you can reference a text in the document by using this syntax: for the link use (`[link text](#some unique id)`) and for the part you want to be referenced use (`<a id = \"some unique id\">visible text</a>`). For example: [Go to the next section](#img)\n",
    "\n",
    "[1]: [www.google.com]"
   ]
  },
  {
   "cell_type": "markdown",
   "metadata": {},
   "source": [
    "### <a id = \"img\"> Images</a>\n",
    "\n",
    "As the links to text, images also have two ways to reference: inline and reference links.\n",
    "\n",
    "- To create an inlie link for an image use (`![ ]( )`) syntax. First put an excamation mark, then in the first brackets put **_alternative text_**. An alternative text is used for two reasons:\n",
    "    - If you have bad internet connection and you cannot render the image, the alternative text you provided will be in the place of the image.\n",
    "    - Peaple with visual imparities use softvares that reads the text of the webpage. As the software cannot read an image, alternative text helps by providing a short description of the image that the software can read.\n",
    "\n",
    " For example: ![Image of a puppy](https://t1.ea.ltmcdn.com/en/images/6/6/0/img_top_6_short_haired_small_dog_breeds_66_600.jpg)\n",
    " \n",
    " `![Image of a puppy](https://t1.ea.ltmcdn.com/en/images/6/6/0/img_top_6_short_haired_small_dog_breeds_66_600.jpg)`\n",
    "\n",
    "\n",
    "- To create a reference link for an image, the syntax is similar to the reference link for text: `![Alternative Text][ID]` and at the buttom `[ID]: Link to the image`"
   ]
  },
  {
   "cell_type": "markdown",
   "metadata": {},
   "source": [
    "### <a id = \"bquote\">Block quote</a>\n",
    "\n",
    "To create a block quote insert `>` in front of the text just like this:\n",
    "\n",
    "> “Always code as if the guy who ends up maintaining your code will be a violent psychopath who knows where you live”\n",
    "― John Woods "
   ]
  },
  {
   "cell_type": "markdown",
   "metadata": {},
   "source": [
    "### <a id = \"lists\">Lists</a>\n",
    "\n",
    "To create lists put `*` in front of the text like this:\n",
    "\n",
    "* List item 1\n",
    "* List item 2\n",
    "\n",
    "To create an ordered list put `1.`, `2.` etc. in front of the text like this:\n",
    "\n",
    "1. Ordered list item 1\n",
    "2. Ordered list item 2\n",
    "\n",
    "To create a nested list, indent each line with one space like this:\n",
    "\n",
    "* List item 1\n",
    " * Nested item 1\n",
    "   * Nested item 1"
   ]
  },
  {
   "cell_type": "markdown",
   "metadata": {},
   "source": [
    "### <a id = \"nlines\">New Lines</a>\n",
    "\n",
    "To write from the new line, we have **2** options. First is to add empty new line between lines of text. Second way is to put double space where we want the new line to break and to start writing in the new line (this way we don't need to put an empty new line).\n",
    "\n",
    "Line 1\n",
    "\n",
    "Line 2\n",
    "\n",
    "_OR_\n",
    "\n",
    "Line 1  \n",
    "Line 2"
   ]
  },
  {
   "cell_type": "markdown",
   "metadata": {},
   "source": [
    "### <a id = \"codes\">Codes</a>\n",
    "\n",
    "To highlight a part of text as a code put ``` ` ``` at the beggining and at the end of the text.\n",
    "\n",
    "`import numpy as np`\n",
    "\n",
    "To have a block of code put **three** ``` ` ``` at the front and at the end of the text.\n",
    "\n",
    "```\n",
    "import numpy as np\n",
    "import pandas as pd\n",
    "```\n",
    "\n",
    "To tell markdown what language the code is written put the name of the programming language after the three ``` ` ``` at the start of the text like this:\n",
    "\n",
    "```python\n",
    "import numpy as np\n",
    "import pandas as pd\n",
    "\n",
    "x = 5\n",
    "print(x**3)\n",
    "```"
   ]
  },
  {
   "cell_type": "markdown",
   "metadata": {},
   "source": [
    "[**Go to top**](#top)"
   ]
  }
 ],
 "metadata": {
  "kernelspec": {
   "display_name": "Python 3",
   "language": "python",
   "name": "python3"
  },
  "language_info": {
   "codemirror_mode": {
    "name": "ipython",
    "version": 3
   },
   "file_extension": ".py",
   "mimetype": "text/x-python",
   "name": "python",
   "nbconvert_exporter": "python",
   "pygments_lexer": "ipython3",
   "version": "3.6.5"
  }
 },
 "nbformat": 4,
 "nbformat_minor": 2
}
