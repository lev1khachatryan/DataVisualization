{
 "cells": [
  {
   "cell_type": "markdown",
   "metadata": {},
   "source": [
    "### Two categories of geographical data\n",
    "\n",
    "1. Spatial opject: shape and spatial extent matters, map is the main object of interest\n",
    " * countries, regions, buildings\n",
    "2. Non-Spatial geolocated Objects: shape and map does not matter\n",
    " * cars, people, weather stations. The role of the map is to only be a reference to see where these objects or phenomena are located"
   ]
  },
  {
   "cell_type": "markdown",
   "metadata": {},
   "source": [
    "### When/Why to use map\n",
    "\n",
    "1. When the question is inherently spacial (map vs bar chart)\n",
    " * correlate the variable with the spacial location (bikes and subway)\n",
    "     * [John Snow's Cholera map](https://www1.udel.edu/johnmack/frec682/cholera/cholera2.html) (death near water pump)\n",
    " * phenomena for which spacial proximity is relevant\n",
    "     * how far has epidemic extended from its point of origin\n",
    "     * the rate of infected people in neighboring regions\n",
    "2. When the map helps find information needed (electoral maps)"
   ]
  },
  {
   "cell_type": "markdown",
   "metadata": {},
   "source": [
    "### Types of maps\n",
    "\n",
    "1. Dot Map\n",
    " * distribution of objects (density and distribution)\n",
    "2. Heat Maps\n",
    " * distribution of continuous values\n",
    "3. Binned Maps\n",
    " * distribution of discrete or arbitrary values\n",
    "4. Choropleth Mapth\n",
    " * distribution of discrete and/or geo values\n",
    "5. Symbol Maps\n",
    " * distribution of discrete and/or geo values"
   ]
  },
  {
   "cell_type": "markdown",
   "metadata": {},
   "source": [
    "### Issues with maps\n",
    "\n",
    "1. normalize data\n",
    "2. insensitivity to sample size\n",
    "\n",
    "> In probability theory, the law of large numbers (LLN) is a theorem that describes the result of performing the same experiment a large number of times. According to the law, the average of the results obtained from a large number of trials should be close to the expected value, and will tend to become closer as more trials are performed. [link to wikipedia](https://en.wikipedia.org/wiki/Law_of_large_numbers)\n",
    "\n",
    "3. skewed spatial distributions\n",
    " * color intensity is percieved differently by size\n",
    "4. color perception\n",
    " * framing bias\n",
    "\n",
    "[link 1](https://www.eyesocialeyes.com/wp-content/uploads/2016/03/darker-moving.gif)  \n",
    "[link 2](http://brainden.com/images/dots-big.gif)"
   ]
  },
  {
   "cell_type": "markdown",
   "metadata": {},
   "source": [
    "### Introduction"
   ]
  },
  {
   "cell_type": "markdown",
   "metadata": {},
   "source": [
    "## Plotly"
   ]
  },
  {
   "cell_type": "markdown",
   "metadata": {},
   "source": [
    "### Choropleth Mapth"
   ]
  },
  {
   "cell_type": "code",
   "execution_count": null,
   "metadata": {},
   "outputs": [],
   "source": [
    "from plotly.offline import plot, iplot\n",
    "import plotly.graph_objs as go\n",
    "from plotly.offline import init_notebook_mode\n",
    "init_notebook_mode(connected=True)\n",
    "\n",
    "import pandas as pd"
   ]
  },
  {
   "cell_type": "code",
   "execution_count": null,
   "metadata": {},
   "outputs": [],
   "source": [
    "df = pd.read_csv('https://raw.githubusercontent.com/plotly/datasets/master/2011_us_ag_exports.csv')"
   ]
  },
  {
   "cell_type": "code",
   "execution_count": null,
   "metadata": {},
   "outputs": [],
   "source": [
    "df.shape"
   ]
  },
  {
   "cell_type": "code",
   "execution_count": null,
   "metadata": {},
   "outputs": [],
   "source": [
    "df.head()"
   ]
  },
  {
   "cell_type": "code",
   "execution_count": null,
   "metadata": {},
   "outputs": [],
   "source": [
    "for col in df.columns:\n",
    "    df[col] = df[col].astype(str)\n",
    "\n",
    "df['text'] = df['state'] + '<br>' + \\\n",
    "    'Beef ' + df['beef'] + ' Dairy ' + df['dairy'] + '<br>' + \\\n",
    "    'Fruits ' + df['total fruits'] + ' Veggies ' + df['total veggies'] + '<br>' + \\\n",
    "    'Wheat ' + df['wheat'] + ' Corn ' + df['corn']"
   ]
  },
  {
   "cell_type": "code",
   "execution_count": null,
   "metadata": {},
   "outputs": [],
   "source": [
    "data = [go.Choropleth(\n",
    "    locations = df['code'],\n",
    "    z = df['total exports'].astype(float),\n",
    "    locationmode = 'USA-states',\n",
    "    text = df['text'],\n",
    "    marker = go.choropleth.Marker(\n",
    "        line = go.choropleth.marker.Line(\n",
    "            color = 'rgb(255,255,255)',\n",
    "            width = 2\n",
    "        )),\n",
    "    colorbar = go.choropleth.ColorBar(\n",
    "        title = \"Millions USD\")\n",
    ")]\n",
    "\n",
    "layout = go.Layout(\n",
    "    geo = go.layout.Geo(\n",
    "        scope = 'usa',\n",
    "        showlakes = True,\n",
    "        lakecolor = 'rgb(255, 255, 255)'),\n",
    ")\n",
    "\n",
    "fig = go.Figure(data = data, layout = layout)"
   ]
  },
  {
   "cell_type": "code",
   "execution_count": null,
   "metadata": {},
   "outputs": [],
   "source": [
    "iplot(fig)"
   ]
  },
  {
   "cell_type": "markdown",
   "metadata": {},
   "source": [
    "### Dot Map"
   ]
  },
  {
   "cell_type": "code",
   "execution_count": null,
   "metadata": {},
   "outputs": [],
   "source": [
    "df = pd.read_csv('https://raw.githubusercontent.com/plotly/datasets/master/2011_february_us_airport_traffic.csv')\n",
    "df.head()\n",
    "\n",
    "df['text'] = df['airport'] + '' + df['city'] + ', ' + df['state'] + '' + 'Arrivals: ' + df['cnt'].astype(str)\n",
    "\n",
    "data = [ go.Scattergeo(\n",
    "        locationmode = 'USA-states',\n",
    "        lon = df['long'],\n",
    "        lat = df['lat'],\n",
    "        text = df['text'],\n",
    "        mode = 'markers',\n",
    "        marker = dict( \n",
    "            size = 8, \n",
    "            opacity = 0.8,\n",
    "            reversescale = True,\n",
    "            autocolorscale = False,\n",
    "            symbol = 'square',\n",
    "            line = dict(\n",
    "                width=1,\n",
    "                color='rgba(102, 102, 102)'\n",
    "            ),\n",
    "            cmin = 0,\n",
    "            color = df['cnt'],\n",
    "            cmax = df['cnt'].max(),\n",
    "            colorbar=dict(\n",
    "                title=\"Incoming flights<br>February 2011\"\n",
    "            )\n",
    "        ))]\n",
    "\n",
    "layout = dict(\n",
    "        title = 'Most trafficked US airports<br>(Hover for airport names)', \n",
    "        geo = dict(\n",
    "            scope='usa',\n",
    "            projection=dict( type='albers usa' ),\n",
    "            showland = True,\n",
    "            landcolor = \"rgb(250, 250, 250)\",\n",
    "            subunitcolor = \"rgb(217, 217, 217)\",\n",
    "            countrycolor = \"rgb(217, 217, 217)\",\n",
    "            countrywidth = 0.5,\n",
    "            subunitwidth = 0.5        \n",
    "        ),\n",
    "    )\n",
    "\n",
    "fig = go.Figure(data=data, layout=layout )"
   ]
  },
  {
   "cell_type": "code",
   "execution_count": null,
   "metadata": {},
   "outputs": [],
   "source": [
    "py.iplot(fig, filename='d3-airports')"
   ]
  },
  {
   "cell_type": "code",
   "execution_count": null,
   "metadata": {},
   "outputs": [],
   "source": [
    "import matplotlib.pyplot as plt\n",
    "plt.figure(figsize=(16, 10))\n",
    "plt.bar(np.arange(df[\"state\"].nunique()), df.groupby(\"state\").sum()[\"cnt\"]/df.groupby(\"state\").count()[\"cnt\"])\n",
    "plt.xticks(np.arange(df[\"state\"].nunique()), df.groupby(\"state\").sum()[\"cnt\"].index, rotation = 45, size = 11);"
   ]
  },
  {
   "cell_type": "markdown",
   "metadata": {},
   "source": [
    "### Symbol Maps"
   ]
  },
  {
   "cell_type": "code",
   "execution_count": null,
   "metadata": {
    "scrolled": true
   },
   "outputs": [],
   "source": [
    "df"
   ]
  },
  {
   "cell_type": "code",
   "execution_count": null,
   "metadata": {},
   "outputs": [],
   "source": [
    "df = pd.read_csv('https://raw.githubusercontent.com/plotly/datasets/master/2014_us_cities.csv')\n",
    "df.head()\n",
    "\n",
    "df['text'] = df['name'] + '<br>Population ' + (df['pop']/1e6).astype(str)+' million'\n",
    "limits = [(0,2),(3,10),(11,20),(21,50),(50,3000)]\n",
    "colors = [\"rgb(0,116,217)\",\"rgb(255,65,54)\",\"rgb(133,20,75)\",\"rgb(255,133,27)\",\"lightgrey\"]\n",
    "cities = []\n",
    "scale = 5000\n",
    "\n",
    "for i in range(len(limits)):\n",
    "    lim = limits[i]\n",
    "    df_sub = df[lim[0]:lim[1]]\n",
    "    city = go.Scattergeo(\n",
    "        locationmode = 'USA-states',\n",
    "        lon = df_sub['lon'],\n",
    "        lat = df_sub['lat'],\n",
    "        text = df_sub['text'],\n",
    "        marker = go.scattergeo.Marker(\n",
    "            size = df_sub['pop']/scale,\n",
    "            color = colors[i],\n",
    "            line = go.scattergeo.marker.Line(\n",
    "                width=0.5, color='rgb(40,40,40)'\n",
    "            ),\n",
    "            sizemode = 'area'\n",
    "        ),\n",
    "        name = '{0} - {1}'.format(lim[0],lim[1]) )\n",
    "    cities.append(city)\n",
    "\n",
    "layout = go.Layout(\n",
    "        geo = go.layout.Geo(\n",
    "            scope = 'usa',\n",
    "            projection = go.layout.geo.Projection(\n",
    "                type='albers usa'\n",
    "            ),\n",
    "            showland = True,\n",
    "            landcolor = 'rgb(217, 217, 217)',\n",
    "            subunitwidth=1,\n",
    "            countrywidth=1,\n",
    "            subunitcolor=\"rgb(255, 255, 255)\",\n",
    "            countrycolor=\"rgb(255, 255, 255)\"\n",
    "        )\n",
    "    )\n",
    "\n",
    "fig = go.Figure(data=cities, layout=layout)"
   ]
  },
  {
   "cell_type": "code",
   "execution_count": null,
   "metadata": {},
   "outputs": [],
   "source": [
    "py.iplot(fig, filename='d3-bubble-map-populations')"
   ]
  },
  {
   "cell_type": "markdown",
   "metadata": {},
   "source": [
    "## Folium"
   ]
  },
  {
   "cell_type": "code",
   "execution_count": null,
   "metadata": {},
   "outputs": [],
   "source": [
    "import folium\n",
    "import json\n",
    "import numpy as np\n",
    "import pandas as pd"
   ]
  },
  {
   "cell_type": "code",
   "execution_count": null,
   "metadata": {},
   "outputs": [],
   "source": [
    "m = folium.Map(location=[40.2, 44.6])\n",
    "m"
   ]
  },
  {
   "cell_type": "code",
   "execution_count": null,
   "metadata": {},
   "outputs": [],
   "source": [
    "geo_json_data = json.load(open(\"us-counties.json\"))"
   ]
  },
  {
   "cell_type": "code",
   "execution_count": null,
   "metadata": {},
   "outputs": [],
   "source": [
    "m = folium.Map([43, -100], zoom_start=4)\n",
    "folium.GeoJson(geo_json_data).add_to(m)\n",
    "m"
   ]
  },
  {
   "cell_type": "code",
   "execution_count": null,
   "metadata": {},
   "outputs": [],
   "source": [
    "df = []\n",
    "for i in range(len(geo_json_data[\"features\"])):\n",
    "    df.append([geo_json_data[\"features\"][i][\"id\"], np.random.normal(10000, 50000)])"
   ]
  },
  {
   "cell_type": "code",
   "execution_count": null,
   "metadata": {},
   "outputs": [],
   "source": [
    "df = pd.DataFrame(df, columns=[\"location\", \"value\"])"
   ]
  },
  {
   "cell_type": "code",
   "execution_count": null,
   "metadata": {},
   "outputs": [],
   "source": [
    "m = folium.Map(location=[43, -100], zoom_start=4)"
   ]
  },
  {
   "cell_type": "code",
   "execution_count": null,
   "metadata": {},
   "outputs": [],
   "source": [
    "folium.Choropleth(geo_data = geo_json_data, data = df,\n",
    "                      columns = [\"location\", \"value\"],\n",
    "             fill_color='YlGnBu',\n",
    "                  key_on = \"feature.id\",\n",
    "               fill_opacity=0.7, line_opacity=0.2,\n",
    "                 highlight = True\n",
    "                 ).add_to(m)"
   ]
  },
  {
   "cell_type": "code",
   "execution_count": null,
   "metadata": {},
   "outputs": [],
   "source": [
    "m"
   ]
  },
  {
   "cell_type": "code",
   "execution_count": null,
   "metadata": {},
   "outputs": [],
   "source": [
    "bins = list(df['value'].quantile(np.linspace(0, 1, 11)))"
   ]
  },
  {
   "cell_type": "code",
   "execution_count": null,
   "metadata": {},
   "outputs": [],
   "source": [
    "m = folium.Map(location=[43, -100], zoom_start=4)\n",
    "\n",
    "folium.Choropleth(geo_data = geo_json_data, data = df,\n",
    "                      columns = [\"location\", \"value\"],\n",
    "             fill_color='RdYlBu',\n",
    "                  key_on = \"feature.id\",\n",
    "               fill_opacity=0.7, line_opacity=0.2,\n",
    "                 highlight = True, bins = bins\n",
    "                 ).add_to(m)"
   ]
  },
  {
   "cell_type": "code",
   "execution_count": null,
   "metadata": {},
   "outputs": [],
   "source": [
    "m"
   ]
  },
  {
   "cell_type": "markdown",
   "metadata": {},
   "source": [
    "More about [colorbrew](https://github.com/dsc/colorbrewer-python)"
   ]
  },
  {
   "cell_type": "markdown",
   "metadata": {},
   "source": [
    "### Adding Markers"
   ]
  },
  {
   "cell_type": "code",
   "execution_count": null,
   "metadata": {},
   "outputs": [],
   "source": [
    "import folium\n",
    "import pandas as pd\n",
    " \n",
    "data = pd.DataFrame({\n",
    "'lat':[-58, 2, 145, 30.32, -4.03, -73.57, 36.82, -38.5],\n",
    "'lon':[-34, 49, -38, 59.93, 5.33, 45.52, -1.29, -12.97],\n",
    "'name':['Buenos Aires', 'Paris', 'melbourne', 'St Petersbourg', 'Abidjan', 'Montreal', 'Nairobi', 'Salvador']\n",
    "})\n",
    " \n",
    "\n",
    "m = folium.Map(location=[20, 0], tiles=\"Mapbox Bright\", zoom_start=2)\n",
    " \n",
    "\n",
    "for i in range(0,len(data)):\n",
    "    folium.Marker([data.iloc[i]['lon'], data.iloc[i]['lat']], popup=data.iloc[i]['name']).add_to(m)"
   ]
  },
  {
   "cell_type": "code",
   "execution_count": null,
   "metadata": {},
   "outputs": [],
   "source": [
    "m"
   ]
  },
  {
   "cell_type": "markdown",
   "metadata": {},
   "source": [
    "## Adding pattern styles"
   ]
  },
  {
   "cell_type": "code",
   "execution_count": null,
   "metadata": {},
   "outputs": [],
   "source": [
    "import folium\n",
    "from folium import plugins"
   ]
  },
  {
   "cell_type": "code",
   "execution_count": null,
   "metadata": {},
   "outputs": [],
   "source": [
    "m = folium.Map([40., -105.], zoom_start=4)\n",
    "\n",
    "remote_url = 'https://raw.githubusercontent.com/python-visualization/folium/master/examples/data/us-states.json'\n",
    "stripes = plugins.pattern.StripePattern(angle=-45)\n",
    "stripes.add_to(m)\n",
    "\n",
    "circles = plugins.pattern.CirclePattern(width=20, height=20, radius=5, fill_opacity=0.5, opacity=1)\n",
    "circles.add_to(m)\n",
    "\n",
    "def style_function(feature):\n",
    "    default_style = {\n",
    "        'opacity':1.0,\n",
    "        'fillColor': '#ffff00',\n",
    "        'color': 'black',\n",
    "        'weight': 2\n",
    "    }\n",
    "        \n",
    "    if feature['properties']['name']  == 'Texas':\n",
    "        default_style['fillPattern'] = stripes\n",
    "        default_style['fillOpacity'] = 1.0\n",
    "        \n",
    "    if feature['properties']['name']  == 'California':\n",
    "        default_style['fillPattern'] = circles\n",
    "        default_style['fillOpacity'] = 1.0\n",
    "        \n",
    "    return default_style\n",
    "\n",
    "# Adding remote GeoJSON as additional layer.\n",
    "folium.GeoJson(remote_url, smooth_factor=0.5, style_function=style_function).add_to(m)\n",
    "\n",
    "m"
   ]
  },
  {
   "cell_type": "markdown",
   "metadata": {},
   "source": [
    "## Time"
   ]
  },
  {
   "cell_type": "code",
   "execution_count": null,
   "metadata": {},
   "outputs": [],
   "source": [
    "import folium"
   ]
  },
  {
   "cell_type": "code",
   "execution_count": null,
   "metadata": {},
   "outputs": [],
   "source": [
    "import geopandas as gpd\n",
    "datapath = gpd.datasets.get_path('naturalearth_lowres')\n",
    "gdf = gpd.read_file(datapath)"
   ]
  },
  {
   "cell_type": "code",
   "execution_count": null,
   "metadata": {},
   "outputs": [],
   "source": [
    "import pandas as pd\n",
    "\n",
    "n_periods, n_sample = 48, 40\n",
    "\n",
    "datetime_index = pd.date_range('2016-1-1', periods=n_periods, freq='M')\n",
    "dt_index_epochs = datetime_index.astype(int) // 10**9\n",
    "dt_index = dt_index_epochs.astype('U10')\n",
    "\n",
    "dt_index"
   ]
  },
  {
   "cell_type": "code",
   "execution_count": null,
   "metadata": {},
   "outputs": [],
   "source": [
    "import numpy as np\n",
    "np.random.seed(42)\n",
    "\n",
    "styledata = {}\n",
    "\n",
    "for country in gdf.index:\n",
    "    df = pd.DataFrame(\n",
    "        {'color': np.random.normal(size=n_periods),\n",
    "         'opacity': np.random.normal(size=n_periods)},\n",
    "        index=dt_index\n",
    "    )\n",
    "    df = df.cumsum()\n",
    "    df.sample(n_sample, replace=False).sort_index()\n",
    "    styledata[country] = df"
   ]
  },
  {
   "cell_type": "code",
   "execution_count": null,
   "metadata": {},
   "outputs": [],
   "source": [
    "ax = df.plot()"
   ]
  },
  {
   "cell_type": "code",
   "execution_count": null,
   "metadata": {},
   "outputs": [],
   "source": [
    "max_color, min_color, max_opacity, min_opacity = 0, 0, 0, 0\n",
    "\n",
    "for country, data in styledata.items():\n",
    "    max_color = max(max_color, data['color'].max())\n",
    "    min_color = min(max_color, data['color'].min())\n",
    "    max_opacity = max(max_color, data['opacity'].max())\n",
    "    max_opacity = min(max_color, data['opacity'].max())"
   ]
  },
  {
   "cell_type": "code",
   "execution_count": null,
   "metadata": {},
   "outputs": [],
   "source": [
    "from branca.colormap import linear\n",
    "cmap = linear.PuRd_09.scale(min_color, max_color)\n",
    "\n",
    "\n",
    "def norm(x):\n",
    "    return (x - x.min()) / (x.max() - x.min())\n",
    "\n",
    "\n",
    "for country, data in styledata.items():\n",
    "    data['color'] = data['color'].apply(cmap)\n",
    "    data['opacity'] = norm(data['opacity'])"
   ]
  },
  {
   "cell_type": "code",
   "execution_count": null,
   "metadata": {},
   "outputs": [],
   "source": [
    "cmap"
   ]
  },
  {
   "cell_type": "code",
   "execution_count": null,
   "metadata": {},
   "outputs": [],
   "source": [
    "styledict = {\n",
    "    str(country): data.to_dict(orient='index') for\n",
    "    country, data in styledata.items()\n",
    "}"
   ]
  },
  {
   "cell_type": "code",
   "execution_count": null,
   "metadata": {},
   "outputs": [],
   "source": [
    "from folium.plugins import TimeSliderChoropleth\n",
    "\n",
    "m = folium.Map([0, 0], zoom_start=2)\n",
    "\n",
    "g = TimeSliderChoropleth(\n",
    "    gdf.to_json(),\n",
    "    styledict=styledict\n",
    ").add_to(m)\n",
    "\n",
    "m"
   ]
  },
  {
   "cell_type": "code",
   "execution_count": null,
   "metadata": {},
   "outputs": [],
   "source": []
  }
 ],
 "metadata": {
  "kernelspec": {
   "display_name": "Python 3",
   "language": "python",
   "name": "python3"
  },
  "language_info": {
   "codemirror_mode": {
    "name": "ipython",
    "version": 3
   },
   "file_extension": ".py",
   "mimetype": "text/x-python",
   "name": "python",
   "nbconvert_exporter": "python",
   "pygments_lexer": "ipython3",
   "version": "3.6.5"
  }
 },
 "nbformat": 4,
 "nbformat_minor": 2
}
