{
 "cells": [
  {
   "cell_type": "code",
   "execution_count": 57,
   "metadata": {},
   "outputs": [
    {
     "data": {
      "text/html": [
       "        <script type=\"text/javascript\">\n",
       "        window.PlotlyConfig = {MathJaxConfig: 'local'};\n",
       "        if (window.MathJax) {MathJax.Hub.Config({SVG: {font: \"STIX-Web\"}});}\n",
       "        if (typeof require !== 'undefined') {\n",
       "        require.undef(\"plotly\");\n",
       "        requirejs.config({\n",
       "            paths: {\n",
       "                'plotly': ['https://cdn.plot.ly/plotly-latest.min']\n",
       "            }\n",
       "        });\n",
       "        require(['plotly'], function(Plotly) {\n",
       "            window._Plotly = Plotly;\n",
       "        });\n",
       "        }\n",
       "        </script>\n",
       "        "
      ]
     },
     "metadata": {},
     "output_type": "display_data"
    }
   ],
   "source": [
    "import matplotlib.pyplot as plt\n",
    "import pandas as pd\n",
    "import numpy as np\n",
    "\n",
    "from bs4 import BeautifulSoup\n",
    "import requests\n",
    "from operator import itemgetter\n",
    "import networkx as nx\n",
    "\n",
    "from plotly.offline import download_plotlyjs, init_notebook_mode,  iplot, plot\n",
    "init_notebook_mode(connected=True)\n",
    "\n",
    "import re\n",
    "\n",
    "import plotly.graph_objs as go"
   ]
  },
  {
   "cell_type": "code",
   "execution_count": 58,
   "metadata": {},
   "outputs": [],
   "source": [
    "def get_imdb_data(url = 'https://www.imdb.com/title/tt0468569/?pf_rd_m=A2FGELUUNOQJNL&pf_rd_p=e31d89dd-322d-4646-8962-327b42fe94b1&pf_rd_r=A0PEGTD2F2V8E4EVT1CC&pf_rd_s=center-1&pf_rd_t=15506&pf_rd_i=top&ref_=chttp_tt_4'):\n",
    "    '''\n",
    "    Get the details information about movies\n",
    "    \n",
    "    Parameters:\n",
    "    url (string): url of the movie which about we want to collect information\n",
    "    \n",
    "    Returns:\n",
    "    tuple (title(string) , movies_like_this(list) , summary(string))\n",
    "    \n",
    "    '''\n",
    "    \n",
    "    response = requests.get(url)\n",
    "    soup = BeautifulSoup(response.text, 'lxml')\n",
    "\n",
    "    title = soup.find('h1')\n",
    "    title = title.text[0: int(str(title.text).index('('))-1]\n",
    "\n",
    "    summary = soup.find('div', {'class':'summary_text'}).text\n",
    "    summary = summary.replace('\\n', ' ').replace('\\r', '')\n",
    "    summary = re.sub(' +', ' ', summary)\n",
    "\n",
    "    like_this = soup.find_all('div', {'class':'rec_page'})\n",
    "    movies_like_this = []\n",
    "    \n",
    "    for div in like_this:\n",
    "        links = div.findAll('a')\n",
    "        for a in links:\n",
    "            movies_like_this.append(\"https://www.imdb.com/\" + a['href'])\n",
    "            \n",
    "    return title, movies_like_this, summary"
   ]
  },
  {
   "cell_type": "code",
   "execution_count": 59,
   "metadata": {},
   "outputs": [],
   "source": [
    "# Initial data , movie's title , summary and url\n",
    "START = \"The Dark Knight\"\n",
    "Summary = 'When the menace known as The Joker emerges from his mysterious past, he wreaks havoc and chaos on the people of Gotham. The Dark Knight must accept one of the greatest psychological and physical tests of his ability to fight injustice.'\n",
    "url = 'https://www.imdb.com/title/tt0468569/'\n",
    "\n",
    "# Create an empty Graph\n",
    "F = nx.DiGraph()\n",
    "\n",
    "# For snawball sampling\n",
    "to_scrape_list = [(0, START, url)]\n",
    "to_scrape_set = set(to_scrape_list[0][0:2])\n",
    "\n",
    "# Collect summary of each movie for TF-IDF Statistic\n",
    "Summary_list = [(START , Summary)]\n",
    "\n",
    "# Initial step for snawball sampling\n",
    "layer, title,  url = to_scrape_list[0]\n",
    "\n",
    "# Loop on three layers as we need to collect the data of 3 layer movies\n",
    "while layer < 3:\n",
    "    del to_scrape_list[0]\n",
    "    \n",
    "    movie = get_imdb_data(url)\n",
    "    \n",
    "    for link in movie[1]:\n",
    "        movie_like_parent = get_imdb_data(link)\n",
    "        \n",
    "        sub_movie_title = movie_like_parent[0]\n",
    "        sub_movie_summary = movie_like_parent[2]\n",
    "        Summary_list.append((sub_movie_title, sub_movie_summary))\n",
    "        \n",
    "        to_scrape_list.append((layer + 1,sub_movie_title,  link))\n",
    "        to_scrape_set.add(sub_movie_title)\n",
    "        \n",
    "        F.add_edge(title, sub_movie_title)\n",
    "        \n",
    "    layer,title, url = to_scrape_list[0]"
   ]
  },
  {
   "cell_type": "code",
   "execution_count": 132,
   "metadata": {},
   "outputs": [],
   "source": [
    "# Save Obtained graph to the disk\n",
    "nx.write_graphml(F, \"movies.graphml\")\n"
   ]
  },
  {
   "cell_type": "code",
   "execution_count": 61,
   "metadata": {},
   "outputs": [],
   "source": [
    "Summary_set = set(Summary_list)"
   ]
  },
  {
   "cell_type": "code",
   "execution_count": 77,
   "metadata": {},
   "outputs": [],
   "source": [
    "Summary_df = pd.DataFrame(Summary_set, columns=['Title', 'Summary'])"
   ]
  },
  {
   "cell_type": "code",
   "execution_count": null,
   "metadata": {},
   "outputs": [],
   "source": [
    "Summary_df.to_csv('Summary.csv', index=False)"
   ]
  },
  {
   "cell_type": "code",
   "execution_count": null,
   "metadata": {},
   "outputs": [],
   "source": []
  }
 ],
 "metadata": {
  "kernelspec": {
   "display_name": "Python 3",
   "language": "python",
   "name": "python3"
  },
  "language_info": {
   "codemirror_mode": {
    "name": "ipython",
    "version": 3
   },
   "file_extension": ".py",
   "mimetype": "text/x-python",
   "name": "python",
   "nbconvert_exporter": "python",
   "pygments_lexer": "ipython3",
   "version": "3.7.3"
  }
 },
 "nbformat": 4,
 "nbformat_minor": 2
}
