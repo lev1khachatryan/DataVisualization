{
 "cells": [
  {
   "cell_type": "code",
   "execution_count": 1,
   "metadata": {},
   "outputs": [],
   "source": [
    "import numpy as np\n",
    "import pandas as pd\n",
    "from __future__ import with_statement\n",
    "import warnings\n",
    "warnings.filterwarnings('ignore')"
   ]
  },
  {
   "cell_type": "markdown",
   "metadata": {},
   "source": [
    "### Problem 1\n",
    "#### Create a function that will take input two lists/numpy array of arbitrary length with numeric values and return a list/numpy array containing all the unique items that are either in the first list or the second but not in both.\n",
    "#### Randomly create 2 numpy arrays with different length and test your function. Make sure the results are reproducible. Example Input and Output: Input = [ 1, 2, 3, 4 ], [ 1, 2, 0 ,4 ] Output = [ 3, 0 ]"
   ]
  },
  {
   "cell_type": "code",
   "execution_count": 148,
   "metadata": {},
   "outputs": [],
   "source": [
    "def unique_items(list1 , list2):\n",
    "    list1 = set(list1)\n",
    "    list2 = set(list2)\n",
    "    return np.array((list1-list2) | (list2-list1))"
   ]
  },
  {
   "cell_type": "code",
   "execution_count": 149,
   "metadata": {},
   "outputs": [
    {
     "name": "stdout",
     "output_type": "stream",
     "text": [
      "{0.08253820836721693, 0.7622416209895012, 0.5976826290784973, 0.9547899436767745, 0.5243787545887354, 0.9503247879699543, 0.4732583207797717, 0.1235047642866165, 0.188635181954679, 0.7859028135419107, 0.36042957647397256, 0.6529655458320824, 0.67117567821735, 0.39900042465728347}\n"
     ]
    }
   ],
   "source": [
    "np.rand\n",
    "print(unique_items(np.random.rand(np.random.randint(1,10)), np.random.rand(np.random.randint(1,10))))"
   ]
  },
  {
   "cell_type": "code",
   "execution_count": 150,
   "metadata": {},
   "outputs": [
    {
     "name": "stdout",
     "output_type": "stream",
     "text": [
      "{0, 3}\n"
     ]
    }
   ],
   "source": [
    "input1 = [1,2,3,4]\n",
    "input2 = [1,2,0,4]\n",
    "print(unique_items(input1, input2))"
   ]
  },
  {
   "cell_type": "markdown",
   "metadata": {},
   "source": [
    "### Problem 2\n",
    "#### Given a list of integers, write one line of code that will create a new list containing only the odd numbers from the original list. \n",
    "#### Randomly generate a list of integers from 10 to 100 included and test your code. Make sure the results are reproducible. Example Input and Output: Input = [ 1, 2, 3, 4 ] Output = [ 1, 3 ]"
   ]
  },
  {
   "cell_type": "code",
   "execution_count": 151,
   "metadata": {},
   "outputs": [
    {
     "name": "stdout",
     "output_type": "stream",
     "text": [
      "[27, 63, 41, 51, 31, 29, 29, 35, 91, 79]\n"
     ]
    }
   ],
   "source": [
    "original_list = np.random.random_integers(low=10, high=100, size=20)\n",
    "odd_list = [i for i in original_list if i % 2 ]\n",
    "print (odd_list)"
   ]
  },
  {
   "cell_type": "code",
   "execution_count": 152,
   "metadata": {},
   "outputs": [
    {
     "name": "stdout",
     "output_type": "stream",
     "text": [
      "[1, 3]\n"
     ]
    }
   ],
   "source": [
    "original_list = [ 1, 2, 3, 4 ]\n",
    "odd_list = [i for i in original_list if i % 2 ]\n",
    "print (odd_list)"
   ]
  },
  {
   "cell_type": "markdown",
   "metadata": {},
   "source": [
    "### Problem 3\n",
    "#### Write a function that will take a list of integers and strings and save in a .txt file the number of strings and the number of even and odd integers. Example Input and Output: Input = [ 1, 2, “hello”, 4 , 6] Output in a .txt file: Number of strings: 1 Number of odd integers: 1 Number of even integers: 3"
   ]
  },
  {
   "cell_type": "code",
   "execution_count": 4,
   "metadata": {},
   "outputs": [],
   "source": [
    "def arrange_list(mixed_list):\n",
    "    number_of_strings = 0\n",
    "    number_of_even_integers = 0\n",
    "    number_of_odd_integers = 0\n",
    "    for item in mixed_list:\n",
    "        if isinstance(item, str):\n",
    "            number_of_strings += 1\n",
    "        elif isinstance(item, int):\n",
    "            if item % 2 == 0:\n",
    "                number_of_even_integers += 1\n",
    "            elif item % 2 == 1:\n",
    "                number_of_odd_integers += 1\n",
    "    return (number_of_strings, number_of_even_integers, number_of_odd_integers)"
   ]
  },
  {
   "cell_type": "code",
   "execution_count": 1,
   "metadata": {},
   "outputs": [],
   "source": [
    "def save_to_file(mixed_list):\n",
    "    number_of_strings, number_of_even_integers, number_of_odd_integers = arrange_list(mixed_list=mixed_list)\n",
    "    f = open(\"a.txt\",\"w\")\n",
    "    f.write(\"Number of strings: %d\\r\\n\" % (number_of_strings))\n",
    "    f.write(\"Number of odd integers: %d\\r\\n\" % (number_of_odd_integers))\n",
    "    f.write(\"Number of even integers: %d\\r\\n\" % (number_of_even_integers))\n",
    "    f.close()"
   ]
  },
  {
   "cell_type": "code",
   "execution_count": 5,
   "metadata": {},
   "outputs": [],
   "source": [
    "save_to_file([ 1, 2, 'hello', 4 , 6])"
   ]
  }
 ],
 "metadata": {
  "kernelspec": {
   "display_name": "Python 3",
   "language": "python",
   "name": "python3"
  },
  "language_info": {
   "codemirror_mode": {
    "name": "ipython",
    "version": 3
   },
   "file_extension": ".py",
   "mimetype": "text/x-python",
   "name": "python",
   "nbconvert_exporter": "python",
   "pygments_lexer": "ipython3",
   "version": "3.6.5"
  }
 },
 "nbformat": 4,
 "nbformat_minor": 2
}
